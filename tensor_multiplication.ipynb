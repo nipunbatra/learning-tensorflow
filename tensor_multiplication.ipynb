{
 "cells": [
  {
   "cell_type": "code",
   "execution_count": 1,
   "metadata": {
    "collapsed": true
   },
   "outputs": [],
   "source": [
    "import tensorflow as tf\n",
    "import numpy as np"
   ]
  },
  {
   "cell_type": "markdown",
   "metadata": {},
   "source": [
    "### Basic operations"
   ]
  },
  {
   "cell_type": "code",
   "execution_count": 2,
   "metadata": {
    "collapsed": true
   },
   "outputs": [],
   "source": [
    "a = tf.Variable(2.0)\n",
    "b = tf.Variable(3.0)"
   ]
  },
  {
   "cell_type": "code",
   "execution_count": 3,
   "metadata": {
    "collapsed": false
   },
   "outputs": [],
   "source": [
    "c = tf.add(a, b)"
   ]
  },
  {
   "cell_type": "code",
   "execution_count": 4,
   "metadata": {
    "collapsed": false
   },
   "outputs": [
    {
     "name": "stdout",
     "output_type": "stream",
     "text": [
      "(5.0, 2.0)\n"
     ]
    }
   ],
   "source": [
    "with tf.Session() as sess:\n",
    "    sess.run(tf.global_variables_initializer())\n",
    "    print(sess.run(c), sess.run(a))"
   ]
  },
  {
   "cell_type": "code",
   "execution_count": 5,
   "metadata": {
    "collapsed": true
   },
   "outputs": [],
   "source": [
    "d_np = np.array([[2, 3], [4, 5]], dtype=np.float32)\n",
    "e_np = np.array([[3, 1], [2, 1]], dtype=np.float32)\n",
    "d = tf.Variable(d_np)\n",
    "e = tf.Variable(e_np)"
   ]
  },
  {
   "cell_type": "code",
   "execution_count": 6,
   "metadata": {
    "collapsed": true
   },
   "outputs": [],
   "source": [
    "f = tf.multiply(d, e)\n",
    "g = tf.matmul(d, e)"
   ]
  },
  {
   "cell_type": "code",
   "execution_count": 7,
   "metadata": {
    "collapsed": false
   },
   "outputs": [
    {
     "name": "stdout",
     "output_type": "stream",
     "text": [
      "[[ 2.  3.]\n",
      " [ 4.  5.]]\n",
      "[[ 3.  1.]\n",
      " [ 2.  1.]]\n",
      "[[ 6.  3.]\n",
      " [ 8.  5.]]\n",
      "[[ 12.   5.]\n",
      " [ 22.   9.]]\n"
     ]
    }
   ],
   "source": [
    "with tf.Session() as sess:\n",
    "    sess.run(tf.global_variables_initializer())\n",
    "    print sess.run(d)\n",
    "    print sess.run(e)\n",
    "    print sess.run(f)\n",
    "    print sess.run(g)"
   ]
  },
  {
   "cell_type": "markdown",
   "metadata": {},
   "source": [
    "\n",
    "energy_breakdown_mat = M X N X T\n"
   ]
  },
  {
   "cell_type": "code",
   "execution_count": 8,
   "metadata": {
    "collapsed": true
   },
   "outputs": [],
   "source": [
    "M = 30\n",
    "N = 5\n",
    "T = 12\n",
    "h = 2\n",
    "s = 3"
   ]
  },
  {
   "cell_type": "code",
   "execution_count": 9,
   "metadata": {
    "collapsed": false
   },
   "outputs": [
    {
     "name": "stdout",
     "output_type": "stream",
     "text": [
      "[[ 0.6223845  -1.74872636]\n",
      " [ 0.17448214 -0.59461282]\n",
      " [-1.23357418  0.01472871]\n",
      " [ 0.83278414  0.26162015]\n",
      " [-0.638517   -0.09714385]\n",
      " [ 2.14427135  0.35091822]\n",
      " [-0.32745181 -0.15306017]\n",
      " [-2.9957434  -1.79565558]\n",
      " [-0.91165998 -2.32008211]\n",
      " [ 2.31118062  0.02653387]\n",
      " [ 1.56107231 -0.6095168 ]\n",
      " [ 0.07346232 -0.82808511]\n",
      " [ 0.84202569 -0.51452046]\n",
      " [-0.0829432  -0.06512118]\n",
      " [ 0.27931783 -0.3814122 ]\n",
      " [-1.0111435   1.11976724]\n",
      " [ 0.11994977  0.1456507 ]\n",
      " [-0.31103834 -1.10948351]\n",
      " [-0.46724916 -1.51674096]\n",
      " [-0.06299639  0.04685958]\n",
      " [-0.26549287  0.86807753]\n",
      " [-0.1416586   0.70983295]\n",
      " [ 1.91923691  0.06434215]\n",
      " [-0.05851666  1.37427152]\n",
      " [-0.79582505  0.08355399]\n",
      " [-0.5437043  -0.12157113]\n",
      " [-1.32025398 -0.40039427]\n",
      " [-0.50850472  0.92890264]\n",
      " [ 0.13462937 -0.34503665]\n",
      " [ 0.11500549  0.5778354 ]]\n"
     ]
    }
   ],
   "source": [
    "A_np = np.random.randn(M, h)\n",
    "print A_np"
   ]
  },
  {
   "cell_type": "code",
   "execution_count": 11,
   "metadata": {
    "collapsed": false
   },
   "outputs": [],
   "source": [
    "C_np = np.random.randn(T, s).transpose()\n"
   ]
  },
  {
   "cell_type": "code",
   "execution_count": 13,
   "metadata": {
    "collapsed": false
   },
   "outputs": [],
   "source": [
    "B_np = np.random.randn(h, N, s)\n"
   ]
  },
  {
   "cell_type": "code",
   "execution_count": 14,
   "metadata": {
    "collapsed": true
   },
   "outputs": [],
   "source": [
    "A_tf = tf.Variable(A_np)\n",
    "C_tf = tf.Variable(C_np)\n",
    "B_tf = tf.Variable(B_np)"
   ]
  },
  {
   "cell_type": "code",
   "execution_count": 15,
   "metadata": {
    "collapsed": false
   },
   "outputs": [
    {
     "data": {
      "text/plain": [
       "(30, 5, 12)"
      ]
     },
     "execution_count": 15,
     "metadata": {},
     "output_type": "execute_result"
    }
   ],
   "source": [
    "np.tensordot(np.tensordot(A_np, B_np, axes=1), C_np, axes=1).shape"
   ]
  },
  {
   "cell_type": "code",
   "execution_count": 16,
   "metadata": {
    "collapsed": false
   },
   "outputs": [
    {
     "data": {
      "text/plain": [
       "(30, 5, 3)"
      ]
     },
     "execution_count": 16,
     "metadata": {},
     "output_type": "execute_result"
    }
   ],
   "source": [
    "np.tensordot(A_np, B_np, axes=1).shape"
   ]
  },
  {
   "cell_type": "code",
   "execution_count": 17,
   "metadata": {
    "collapsed": false
   },
   "outputs": [
    {
     "data": {
      "text/plain": [
       "(30, 2)"
      ]
     },
     "execution_count": 17,
     "metadata": {},
     "output_type": "execute_result"
    }
   ],
   "source": [
    "A_np.shape"
   ]
  },
  {
   "cell_type": "code",
   "execution_count": 18,
   "metadata": {
    "collapsed": false
   },
   "outputs": [
    {
     "data": {
      "text/plain": [
       "(2, 5, 3)"
      ]
     },
     "execution_count": 18,
     "metadata": {},
     "output_type": "execute_result"
    }
   ],
   "source": [
    "B_np.shape"
   ]
  },
  {
   "cell_type": "code",
   "execution_count": 19,
   "metadata": {
    "collapsed": false
   },
   "outputs": [
    {
     "data": {
      "text/plain": [
       "array([ 0.6223845 , -1.74872636])"
      ]
     },
     "execution_count": 19,
     "metadata": {},
     "output_type": "execute_result"
    }
   ],
   "source": [
    "A_np[0]"
   ]
  },
  {
   "cell_type": "code",
   "execution_count": 20,
   "metadata": {
    "collapsed": false
   },
   "outputs": [
    {
     "data": {
      "text/plain": [
       "array([[ 1.02056664, -0.27667905, -0.67220086],\n",
       "       [-0.00733637, -0.90718505, -1.95303756]])"
      ]
     },
     "execution_count": 20,
     "metadata": {},
     "output_type": "execute_result"
    }
   ],
   "source": [
    "B_np[:,0,:]"
   ]
  },
  {
   "cell_type": "code",
   "execution_count": 21,
   "metadata": {
    "collapsed": false
   },
   "outputs": [
    {
     "data": {
      "text/plain": [
       "array([-0.6940274 , -0.52600197, -0.46357418])"
      ]
     },
     "execution_count": 21,
     "metadata": {},
     "output_type": "execute_result"
    }
   ],
   "source": [
    "C_np[:,0]"
   ]
  },
  {
   "cell_type": "code",
   "execution_count": 22,
   "metadata": {
    "collapsed": false
   },
   "outputs": [
    {
     "data": {
      "text/plain": [
       "-0.9872399999999999"
      ]
     },
     "execution_count": 22,
     "metadata": {},
     "output_type": "execute_result"
    }
   ],
   "source": [
    "1.418*-1.58-1.04*-1.205"
   ]
  },
  {
   "cell_type": "code",
   "execution_count": 23,
   "metadata": {
    "collapsed": false
   },
   "outputs": [
    {
     "data": {
      "text/plain": [
       "-2.5829345400343255"
      ]
     },
     "execution_count": 23,
     "metadata": {},
     "output_type": "execute_result"
    }
   ],
   "source": [
    "np.dot(A_np[0], B_np[:,0,:]).dot(C_np[:,0])"
   ]
  },
  {
   "cell_type": "code",
   "execution_count": 25,
   "metadata": {
    "collapsed": false
   },
   "outputs": [
    {
     "data": {
      "text/plain": [
       "array([[[-2.58293454, -0.71922813, -0.15713245, ..., -0.68642722,\n",
       "          1.17335826, -2.66554589],\n",
       "        [ 1.93613538, -7.53164117,  6.60525502, ...,  0.1957339 ,\n",
       "          6.35241106,  4.76997643],\n",
       "        [-4.65280005, -2.59904245, -0.32629984, ..., -2.07109718,\n",
       "          3.531974  , -4.11884878],\n",
       "        [ 3.98291626,  0.14978811,  2.54272802, ...,  2.11833724,\n",
       "         -1.30070149,  4.11021758],\n",
       "        [ 2.17678729, -5.06534726,  3.8953635 , ..., -0.21685044,\n",
       "          4.2758136 ,  4.36579821]],\n",
       "\n",
       "       [[-0.86893644, -0.22303241, -0.03339665, ..., -0.20528456,\n",
       "          0.36981774, -0.910701  ],\n",
       "        [ 0.6464761 , -2.43710664,  2.14900545, ...,  0.07271364,\n",
       "          2.05006712,  1.56471924],\n",
       "        [-1.62824198, -0.8381626 , -0.20165259, ..., -0.74356158,\n",
       "          1.17896469, -1.45941302],\n",
       "        [ 1.32118211,  0.06378298,  0.87145144, ...,  0.73146487,\n",
       "         -0.45311468,  1.35009343],\n",
       "        [ 0.77790728, -1.7081533 ,  1.36154741, ..., -0.03650522,\n",
       "          1.42478982,  1.51404725]],\n",
       "\n",
       "       [[ 0.33025358,  0.71782802,  0.66377124, ...,  0.93562895,\n",
       "         -0.97399389, -0.12124902],\n",
       "        [-0.40852465,  4.15895043, -3.26178648, ...,  0.20202076,\n",
       "         -3.68838402, -1.93163048],\n",
       "        [-1.48752344,  1.52915943, -2.99664767, ..., -1.28328596,\n",
       "         -0.75722831, -1.91293442],\n",
       "        [-1.12857708,  0.4237067 ,  0.20534344, ...,  0.3516891 ,\n",
       "         -0.34757714, -1.60499374],\n",
       "        [ 1.22976036,  0.51215857,  1.19144801, ...,  1.23295964,\n",
       "         -0.99827581,  0.94078363]],\n",
       "\n",
       "       ..., \n",
       "       [[ 1.4167045 ,  0.48513235,  0.17941036, ...,  0.4992934 ,\n",
       "         -0.76290785,  1.39509398],\n",
       "        [-1.08525761,  4.59387871, -3.97298565, ..., -0.07447373,\n",
       "         -3.90077124, -2.80769746],\n",
       "        [ 2.25039569,  1.5988808 , -0.26108114, ...,  0.91175521,\n",
       "         -1.98150477,  1.90580545],\n",
       "        [-2.27427294, -0.01801677, -1.31782487, ..., -1.07171574,\n",
       "          0.63899029, -2.41073885],\n",
       "        [-0.97551981,  2.75865004, -1.89185949, ...,  0.29349554,\n",
       "         -2.41062747, -2.1774791 ]],\n",
       "\n",
       "       [[-0.5126028 , -0.14876307, -0.03738248, ..., -0.1443912 ,\n",
       "          0.24079624, -0.52454816],\n",
       "        [ 0.38579072, -1.52548656,  1.33413956, ...,  0.0366585 ,\n",
       "          1.28838003,  0.95936554],\n",
       "        [-0.9033303 , -0.52732465, -0.03549848, ..., -0.39611733,\n",
       "          0.70388992, -0.79392454],\n",
       "        [ 0.79640352,  0.02546204,  0.49951545, ...,  0.41440519,\n",
       "         -0.25318552,  0.82609837],\n",
       "        [ 0.41747763, -1.00395153,  0.75679497, ..., -0.05464148,\n",
       "          0.85291583,  0.85199086]],\n",
       "\n",
       "       [[ 0.77294969,  0.05184542, -0.1210132 , ..., -0.01592303,\n",
       "         -0.13602994,  0.91829545],\n",
       "        [-0.53737131,  1.4195447 , -1.34560853, ..., -0.11784552,\n",
       "         -1.15013972, -1.08238109],\n",
       "        [ 1.93598931,  0.46532819,  0.89082504, ...,  1.02391815,\n",
       "         -0.97716594,  1.86943597],\n",
       "        [-1.03022108, -0.16043459, -0.89939564, ..., -0.79643432,\n",
       "          0.52338997, -0.94819484],\n",
       "        [-1.04510085,  1.55118974, -1.60675077, ..., -0.24973821,\n",
       "         -1.16166349, -1.69779487]]])"
      ]
     },
     "execution_count": 25,
     "metadata": {},
     "output_type": "execute_result"
    }
   ],
   "source": [
    "np.tensordot(np.tensordot(A_np, B_np, axes=1), C_np, axes=1)"
   ]
  },
  {
   "cell_type": "code",
   "execution_count": 26,
   "metadata": {
    "collapsed": false
   },
   "outputs": [],
   "source": [
    "AB_tf = tf.tensordot(A_tf, B_tf,axes = [[1], [0]])\n"
   ]
  },
  {
   "cell_type": "code",
   "execution_count": 27,
   "metadata": {
    "collapsed": false
   },
   "outputs": [
    {
     "data": {
      "text/plain": [
       "TensorShape([Dimension(30), Dimension(2)])"
      ]
     },
     "execution_count": 27,
     "metadata": {},
     "output_type": "execute_result"
    }
   ],
   "source": [
    "A_tf.get_shape()"
   ]
  },
  {
   "cell_type": "code",
   "execution_count": 28,
   "metadata": {
    "collapsed": false
   },
   "outputs": [
    {
     "data": {
      "text/plain": [
       "TensorShape([Dimension(2), Dimension(5), Dimension(3)])"
      ]
     },
     "execution_count": 28,
     "metadata": {},
     "output_type": "execute_result"
    }
   ],
   "source": [
    "B_tf.get_shape()"
   ]
  },
  {
   "cell_type": "code",
   "execution_count": 29,
   "metadata": {
    "collapsed": false
   },
   "outputs": [
    {
     "data": {
      "text/plain": [
       "TensorShape([Dimension(30), Dimension(5), Dimension(3)])"
      ]
     },
     "execution_count": 29,
     "metadata": {},
     "output_type": "execute_result"
    }
   ],
   "source": [
    "AB_tf.get_shape()"
   ]
  },
  {
   "cell_type": "code",
   "execution_count": 30,
   "metadata": {
    "collapsed": false
   },
   "outputs": [
    {
     "data": {
      "text/plain": [
       "TensorShape([Dimension(3), Dimension(12)])"
      ]
     },
     "execution_count": 30,
     "metadata": {},
     "output_type": "execute_result"
    }
   ],
   "source": [
    "C_tf.get_shape()"
   ]
  },
  {
   "cell_type": "code",
   "execution_count": 34,
   "metadata": {
    "collapsed": false
   },
   "outputs": [],
   "source": [
    "AB_tf_C_tf = tf.tensordot(AB_tf, C_tf, axes=[[2], [0]])"
   ]
  },
  {
   "cell_type": "code",
   "execution_count": 35,
   "metadata": {
    "collapsed": false
   },
   "outputs": [
    {
     "data": {
      "text/plain": [
       "TensorShape([Dimension(30), Dimension(5), Dimension(12)])"
      ]
     },
     "execution_count": 35,
     "metadata": {},
     "output_type": "execute_result"
    }
   ],
   "source": [
    "AB_tf_C_tf.get_shape()"
   ]
  },
  {
   "cell_type": "code",
   "execution_count": 40,
   "metadata": {
    "collapsed": true
   },
   "outputs": [],
   "source": [
    "with tf.Session() as sess:\n",
    "    sess.run(tf.global_variables_initializer())\n",
    "    ABC_tf = sess.run(AB_tf_C_tf)"
   ]
  },
  {
   "cell_type": "code",
   "execution_count": 41,
   "metadata": {
    "collapsed": false
   },
   "outputs": [
    {
     "data": {
      "text/html": [
       "<div>\n",
       "<table border=\"1\" class=\"dataframe\">\n",
       "  <thead>\n",
       "    <tr style=\"text-align: right;\">\n",
       "      <th></th>\n",
       "      <th>0</th>\n",
       "      <th>1</th>\n",
       "      <th>2</th>\n",
       "      <th>3</th>\n",
       "      <th>4</th>\n",
       "      <th>5</th>\n",
       "      <th>6</th>\n",
       "      <th>7</th>\n",
       "      <th>8</th>\n",
       "      <th>9</th>\n",
       "      <th>10</th>\n",
       "      <th>11</th>\n",
       "    </tr>\n",
       "  </thead>\n",
       "  <tbody>\n",
       "    <tr>\n",
       "      <th>0</th>\n",
       "      <td>-2.582935</td>\n",
       "      <td>-0.719228</td>\n",
       "      <td>-0.157132</td>\n",
       "      <td>-2.449951</td>\n",
       "      <td>-0.143129</td>\n",
       "      <td>-1.932391</td>\n",
       "      <td>-1.625801</td>\n",
       "      <td>1.670596</td>\n",
       "      <td>-1.895155</td>\n",
       "      <td>-0.686427</td>\n",
       "      <td>1.173358</td>\n",
       "      <td>-2.665546</td>\n",
       "    </tr>\n",
       "    <tr>\n",
       "      <th>1</th>\n",
       "      <td>1.936135</td>\n",
       "      <td>-7.531641</td>\n",
       "      <td>6.605255</td>\n",
       "      <td>0.262827</td>\n",
       "      <td>3.408539</td>\n",
       "      <td>-3.909649</td>\n",
       "      <td>9.065041</td>\n",
       "      <td>-6.990225</td>\n",
       "      <td>0.342118</td>\n",
       "      <td>0.195734</td>\n",
       "      <td>6.352411</td>\n",
       "      <td>4.769976</td>\n",
       "    </tr>\n",
       "    <tr>\n",
       "      <th>2</th>\n",
       "      <td>-4.652800</td>\n",
       "      <td>-2.599042</td>\n",
       "      <td>-0.326300</td>\n",
       "      <td>-5.189535</td>\n",
       "      <td>-1.371790</td>\n",
       "      <td>-4.097325</td>\n",
       "      <td>1.515848</td>\n",
       "      <td>-0.755798</td>\n",
       "      <td>-4.715680</td>\n",
       "      <td>-2.071097</td>\n",
       "      <td>3.531974</td>\n",
       "      <td>-4.118849</td>\n",
       "    </tr>\n",
       "    <tr>\n",
       "      <th>3</th>\n",
       "      <td>3.982916</td>\n",
       "      <td>0.149788</td>\n",
       "      <td>2.542728</td>\n",
       "      <td>4.322750</td>\n",
       "      <td>2.922008</td>\n",
       "      <td>1.993915</td>\n",
       "      <td>-1.014298</td>\n",
       "      <td>0.720831</td>\n",
       "      <td>4.374889</td>\n",
       "      <td>2.118337</td>\n",
       "      <td>-1.300701</td>\n",
       "      <td>4.110218</td>\n",
       "    </tr>\n",
       "    <tr>\n",
       "      <th>4</th>\n",
       "      <td>2.176787</td>\n",
       "      <td>-5.065347</td>\n",
       "      <td>3.895364</td>\n",
       "      <td>0.577970</td>\n",
       "      <td>1.238821</td>\n",
       "      <td>-1.955102</td>\n",
       "      <td>9.201931</td>\n",
       "      <td>-7.510870</td>\n",
       "      <td>0.016626</td>\n",
       "      <td>-0.216850</td>\n",
       "      <td>4.275814</td>\n",
       "      <td>4.365798</td>\n",
       "    </tr>\n",
       "  </tbody>\n",
       "</table>\n",
       "</div>"
      ],
      "text/plain": [
       "         0         1         2         3         4         5         6   \\\n",
       "0 -2.582935 -0.719228 -0.157132 -2.449951 -0.143129 -1.932391 -1.625801   \n",
       "1  1.936135 -7.531641  6.605255  0.262827  3.408539 -3.909649  9.065041   \n",
       "2 -4.652800 -2.599042 -0.326300 -5.189535 -1.371790 -4.097325  1.515848   \n",
       "3  3.982916  0.149788  2.542728  4.322750  2.922008  1.993915 -1.014298   \n",
       "4  2.176787 -5.065347  3.895364  0.577970  1.238821 -1.955102  9.201931   \n",
       "\n",
       "         7         8         9         10        11  \n",
       "0  1.670596 -1.895155 -0.686427  1.173358 -2.665546  \n",
       "1 -6.990225  0.342118  0.195734  6.352411  4.769976  \n",
       "2 -0.755798 -4.715680 -2.071097  3.531974 -4.118849  \n",
       "3  0.720831  4.374889  2.118337 -1.300701  4.110218  \n",
       "4 -7.510870  0.016626 -0.216850  4.275814  4.365798  "
      ]
     },
     "execution_count": 41,
     "metadata": {},
     "output_type": "execute_result"
    }
   ],
   "source": [
    "import pandas as pd\n",
    "pd.DataFrame(ABC[0])"
   ]
  },
  {
   "cell_type": "code",
   "execution_count": 42,
   "metadata": {
    "collapsed": true
   },
   "outputs": [],
   "source": [
    "ABC_np = np.tensordot(np.tensordot(A_np, B_np, axes=1), C_np, axes=1)"
   ]
  },
  {
   "cell_type": "code",
   "execution_count": 43,
   "metadata": {
    "collapsed": false
   },
   "outputs": [
    {
     "data": {
      "text/html": [
       "<div>\n",
       "<table border=\"1\" class=\"dataframe\">\n",
       "  <thead>\n",
       "    <tr style=\"text-align: right;\">\n",
       "      <th></th>\n",
       "      <th>0</th>\n",
       "      <th>1</th>\n",
       "      <th>2</th>\n",
       "      <th>3</th>\n",
       "      <th>4</th>\n",
       "      <th>5</th>\n",
       "      <th>6</th>\n",
       "      <th>7</th>\n",
       "      <th>8</th>\n",
       "      <th>9</th>\n",
       "      <th>10</th>\n",
       "      <th>11</th>\n",
       "    </tr>\n",
       "  </thead>\n",
       "  <tbody>\n",
       "    <tr>\n",
       "      <th>0</th>\n",
       "      <td>-2.582935</td>\n",
       "      <td>-0.719228</td>\n",
       "      <td>-0.157132</td>\n",
       "      <td>-2.449951</td>\n",
       "      <td>-0.143129</td>\n",
       "      <td>-1.932391</td>\n",
       "      <td>-1.625801</td>\n",
       "      <td>1.670596</td>\n",
       "      <td>-1.895155</td>\n",
       "      <td>-0.686427</td>\n",
       "      <td>1.173358</td>\n",
       "      <td>-2.665546</td>\n",
       "    </tr>\n",
       "    <tr>\n",
       "      <th>1</th>\n",
       "      <td>1.936135</td>\n",
       "      <td>-7.531641</td>\n",
       "      <td>6.605255</td>\n",
       "      <td>0.262827</td>\n",
       "      <td>3.408539</td>\n",
       "      <td>-3.909649</td>\n",
       "      <td>9.065041</td>\n",
       "      <td>-6.990225</td>\n",
       "      <td>0.342118</td>\n",
       "      <td>0.195734</td>\n",
       "      <td>6.352411</td>\n",
       "      <td>4.769976</td>\n",
       "    </tr>\n",
       "    <tr>\n",
       "      <th>2</th>\n",
       "      <td>-4.652800</td>\n",
       "      <td>-2.599042</td>\n",
       "      <td>-0.326300</td>\n",
       "      <td>-5.189535</td>\n",
       "      <td>-1.371790</td>\n",
       "      <td>-4.097325</td>\n",
       "      <td>1.515848</td>\n",
       "      <td>-0.755798</td>\n",
       "      <td>-4.715680</td>\n",
       "      <td>-2.071097</td>\n",
       "      <td>3.531974</td>\n",
       "      <td>-4.118849</td>\n",
       "    </tr>\n",
       "    <tr>\n",
       "      <th>3</th>\n",
       "      <td>3.982916</td>\n",
       "      <td>0.149788</td>\n",
       "      <td>2.542728</td>\n",
       "      <td>4.322750</td>\n",
       "      <td>2.922008</td>\n",
       "      <td>1.993915</td>\n",
       "      <td>-1.014298</td>\n",
       "      <td>0.720831</td>\n",
       "      <td>4.374889</td>\n",
       "      <td>2.118337</td>\n",
       "      <td>-1.300701</td>\n",
       "      <td>4.110218</td>\n",
       "    </tr>\n",
       "    <tr>\n",
       "      <th>4</th>\n",
       "      <td>2.176787</td>\n",
       "      <td>-5.065347</td>\n",
       "      <td>3.895364</td>\n",
       "      <td>0.577970</td>\n",
       "      <td>1.238821</td>\n",
       "      <td>-1.955102</td>\n",
       "      <td>9.201931</td>\n",
       "      <td>-7.510870</td>\n",
       "      <td>0.016626</td>\n",
       "      <td>-0.216850</td>\n",
       "      <td>4.275814</td>\n",
       "      <td>4.365798</td>\n",
       "    </tr>\n",
       "  </tbody>\n",
       "</table>\n",
       "</div>"
      ],
      "text/plain": [
       "         0         1         2         3         4         5         6   \\\n",
       "0 -2.582935 -0.719228 -0.157132 -2.449951 -0.143129 -1.932391 -1.625801   \n",
       "1  1.936135 -7.531641  6.605255  0.262827  3.408539 -3.909649  9.065041   \n",
       "2 -4.652800 -2.599042 -0.326300 -5.189535 -1.371790 -4.097325  1.515848   \n",
       "3  3.982916  0.149788  2.542728  4.322750  2.922008  1.993915 -1.014298   \n",
       "4  2.176787 -5.065347  3.895364  0.577970  1.238821 -1.955102  9.201931   \n",
       "\n",
       "         7         8         9         10        11  \n",
       "0  1.670596 -1.895155 -0.686427  1.173358 -2.665546  \n",
       "1 -6.990225  0.342118  0.195734  6.352411  4.769976  \n",
       "2 -0.755798 -4.715680 -2.071097  3.531974 -4.118849  \n",
       "3  0.720831  4.374889  2.118337 -1.300701  4.110218  \n",
       "4 -7.510870  0.016626 -0.216850  4.275814  4.365798  "
      ]
     },
     "execution_count": 43,
     "metadata": {},
     "output_type": "execute_result"
    }
   ],
   "source": [
    "pd.DataFrame(ABC_np[0])"
   ]
  },
  {
   "cell_type": "code",
   "execution_count": 44,
   "metadata": {
    "collapsed": false
   },
   "outputs": [
    {
     "data": {
      "text/plain": [
       "True"
      ]
     },
     "execution_count": 44,
     "metadata": {},
     "output_type": "execute_result"
    }
   ],
   "source": [
    "np.allclose(ABC_np, ABC_tf)"
   ]
  },
  {
   "cell_type": "code",
   "execution_count": null,
   "metadata": {
    "collapsed": true
   },
   "outputs": [],
   "source": []
  }
 ],
 "metadata": {
  "kernelspec": {
   "display_name": "Python 2",
   "language": "python",
   "name": "python2"
  },
  "language_info": {
   "codemirror_mode": {
    "name": "ipython",
    "version": 2
   },
   "file_extension": ".py",
   "mimetype": "text/x-python",
   "name": "python",
   "nbconvert_exporter": "python",
   "pygments_lexer": "ipython2",
   "version": "2.7.11"
  }
 },
 "nbformat": 4,
 "nbformat_minor": 0
}
