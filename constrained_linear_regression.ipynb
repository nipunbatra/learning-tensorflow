{
 "cells": [
  {
   "cell_type": "code",
   "execution_count": 9,
   "metadata": {
    "collapsed": true
   },
   "outputs": [],
   "source": [
    "INFINITY = 10e12"
   ]
  },
  {
   "cell_type": "code",
   "execution_count": 1,
   "metadata": {
    "collapsed": true
   },
   "outputs": [],
   "source": [
    "import numpy as np\n",
    "import pandas as pd\n",
    "import matplotlib.pyplot as plt\n",
    "import tensorflow as tf"
   ]
  },
  {
   "cell_type": "code",
   "execution_count": 65,
   "metadata": {
    "collapsed": false
   },
   "outputs": [],
   "source": [
    "n_samples = 50\n",
    "train_X = np.linspace(1, 50, n_samples)\n",
    "train_Y = 10*train_X + 6 +40*np.random.randn(50)"
   ]
  },
  {
   "cell_type": "code",
   "execution_count": 66,
   "metadata": {
    "collapsed": false
   },
   "outputs": [],
   "source": [
    "%matplotlib inline"
   ]
  },
  {
   "cell_type": "code",
   "execution_count": 67,
   "metadata": {
    "collapsed": false
   },
   "outputs": [
    {
     "data": {
      "text/plain": [
       "[<matplotlib.lines.Line2D at 0x11408b950>]"
      ]
     },
     "execution_count": 67,
     "metadata": {},
     "output_type": "execute_result"
    },
    {
     "data": {
      "image/png": "[encoded data removed]",
      "text/plain": [
       "<matplotlib.figure.Figure at 0x113b74110>"
      ]
     },
     "metadata": {},
     "output_type": "display_data"
    }
   ],
   "source": [
    "plt.plot(train_X, train_Y, 'ro')"
   ]
  },
  {
   "cell_type": "code",
   "execution_count": 97,
   "metadata": {
    "collapsed": true
   },
   "outputs": [],
   "source": []
  },
  {
   "cell_type": "code",
   "execution_count": 98,
   "metadata": {
    "collapsed": false
   },
   "outputs": [],
   "source": []
  },
  {
   "cell_type": "code",
   "execution_count": 99,
   "metadata": {
    "collapsed": false
   },
   "outputs": [],
   "source": []
  },
  {
   "cell_type": "code",
   "execution_count": 139,
   "metadata": {
    "collapsed": true
   },
   "outputs": [],
   "source": [
    "def linear_regression(constraint_use=False):\n",
    "    X = tf.placeholder(\"float\")\n",
    "    Y = tf.placeholder(\"float\")\n",
    "\n",
    "    # Set model weights\n",
    "    W = tf.Variable(np.random.randn(), name=\"weight\")\n",
    "    b = tf.Variable(np.random.randn(), name=\"bias\")\n",
    "    \n",
    "    \n",
    "    # Construct a linear model\n",
    "    pred = tf.add(tf.multiply(X, W), b)\n",
    "    \n",
    "    # Gradient descent\n",
    "    learning_rate=0.0001\n",
    "    # Initializing the variables\n",
    "    init = tf.global_variables_initializer()\n",
    "    \n",
    "        # Mean squared error\n",
    "    cost = tf.reduce_sum(tf.pow(pred-Y, 2))/(2*n_samples)\n",
    "    nn_w = tf.reduce_sum(tf.abs(W) - W)\n",
    "    nn_b = tf.reduce_sum(tf.abs(b) - b)\n",
    "    constraint = 1.0*nn_w + 100*nn_b\n",
    "    cost_with_constraint = cost + constraint\n",
    "    \n",
    "    if constraint_use:\n",
    "        optimizer = tf.train.GradientDescentOptimizer(learning_rate).minimize(cost)\n",
    "    else:\n",
    "        optimizer = tf.train.GradientDescentOptimizer(learning_rate).minimize(cost_with_constraint)\n",
    "    \n",
    "    \n",
    "    training_epochs=20\n",
    "    with tf.Session() as sess:\n",
    "        sess.run(init)\n",
    "\n",
    "        # Fit all training data\n",
    "        cost_array = np.zeros(training_epochs)\n",
    "        W_array = np.zeros(training_epochs)\n",
    "        b_array = np.zeros(training_epochs)\n",
    "\n",
    "        for epoch in range(training_epochs):\n",
    "            for (x, y) in zip(train_X, train_Y):\n",
    "                sess.run(optimizer, feed_dict={X: x, Y: y})\n",
    "                W_array[epoch] = sess.run(W)\n",
    "                b_array[epoch] = sess.run(b)\n",
    "                cost_array[epoch] = sess.run(cost, feed_dict={X: train_X, Y: train_Y})\n",
    "    return W_array, b_array, cost_array"
   ]
  },
  {
   "cell_type": "code",
   "execution_count": 140,
   "metadata": {
    "collapsed": false
   },
   "outputs": [],
   "source": [
    "#W, b, c = linear_regression(False)\n",
    "bnns = []\n",
    "for i in range(10):\n",
    "    W_nn, b_nn, c_nn = linear_regression(True)\n",
    "    bnns.append(b_nn)"
   ]
  },
  {
   "cell_type": "code",
   "execution_count": 150,
   "metadata": {
    "collapsed": false
   },
   "outputs": [
    {
     "data": {
      "text/plain": [
       "0   -1.101268\n",
       "1    0.169225\n",
       "2    0.158363\n",
       "3    0.706270\n",
       "4   -0.371205\n",
       "5    0.244424\n",
       "6    1.312516\n",
       "7   -0.069609\n",
       "8   -1.032187\n",
       "9   -1.711668\n",
       "Name: mean, dtype: float64"
      ]
     },
     "execution_count": 150,
     "metadata": {},
     "output_type": "execute_result"
    }
   ],
   "source": [
    "pd.DataFrame(bnns).T.describe().ix['mean']"
   ]
  },
  {
   "cell_type": "code",
   "execution_count": 73,
   "metadata": {
    "collapsed": true
   },
   "outputs": [],
   "source": []
  },
  {
   "cell_type": "markdown",
   "metadata": {},
   "source": [
    "### Comparing the models with and without non-negative constraints"
   ]
  },
  {
   "cell_type": "code",
   "execution_count": 74,
   "metadata": {
    "collapsed": false
   },
   "outputs": [
    {
     "name": "stdout",
     "output_type": "stream",
     "text": [
      "Epoch: 0010 cost= 8507.264648438 W= 5.95957 b= 0.182251\n",
      "Epoch: 0020 cost= 2202.038574219 W= 8.39647 b= 0.257571\n",
      "Epoch: 0030 cost= 1072.242675781 W= 9.42703 b= 0.290754\n",
      "Epoch: 0040 cost= 869.296325684 W= 9.86285 b= 0.306118\n",
      "Epoch: 0050 cost= 832.629760742 W= 10.0471 b= 0.313944\n",
      "Epoch: 0060 cost= 825.914245605 W= 10.125 b= 0.318582\n",
      "Epoch: 0070 cost= 824.643615723 W= 10.1579 b= 0.321872\n",
      "Epoch: 0080 cost= 824.384216309 W= 10.1718 b= 0.324592\n",
      "Epoch: 0090 cost= 824.321960449 W= 10.1776 b= 0.32707\n",
      "Epoch: 0100 cost= 824.301635742 W= 10.18 b= 0.329445\n",
      "Epoch: 0110 cost= 824.291381836 W= 10.181 b= 0.331776\n",
      "Epoch: 0120 cost= 824.284423828 W= 10.1814 b= 0.334089\n",
      "Epoch: 0130 cost= 824.278686523 W= 10.1815 b= 0.336393\n",
      "Epoch: 0140 cost= 824.273193359 W= 10.1815 b= 0.338694\n",
      "Epoch: 0150 cost= 824.267761230 W= 10.1815 b= 0.340993\n",
      "Epoch: 0160 cost= 824.262573242 W= 10.1815 b= 0.343292\n",
      "Epoch: 0170 cost= 824.257263184 W= 10.1814 b= 0.34559\n",
      "Epoch: 0180 cost= 824.251953125 W= 10.1813 b= 0.347888\n",
      "Epoch: 0190 cost= 824.246704102 W= 10.1813 b= 0.350184\n",
      "Epoch: 0200 cost= 824.241577148 W= 10.1812 b= 0.352479\n",
      "Optimization Finished!\n",
      "Training cost= 824.242 W= 10.1812 b= 0.352479 \n",
      "\n"
     ]
    }
   ],
   "source": [
    "# Without non-negative constraints\n",
    "\n",
    "\n",
    "        #Display logs per epoch step\n",
    "        if (epoch+1) % display_step == 0:\n",
    "            c = sess.run(cost, feed_dict={X: train_X, Y:train_Y})\n",
    "            print \"Epoch:\", '%04d' % (epoch+1), \"cost=\", \"{:.9f}\".format(c), \\\n",
    "                \"W=\", sess.run(W), \"b=\", sess.run(b)\n",
    "\n",
    "    print \"Optimization Finished!\"\n",
    "    training_cost = sess.run(cost, feed_dict={X: train_X, Y: train_Y})\n",
    "    print \"Training cost=\", training_cost, \"W=\", sess.run(W), \"b=\", sess.run(b), '\\n'"
   ]
  },
  {
   "cell_type": "code",
   "execution_count": null,
   "metadata": {
    "collapsed": true
   },
   "outputs": [],
   "source": []
  },
  {
   "cell_type": "code",
   "execution_count": null,
   "metadata": {
    "collapsed": true
   },
   "outputs": [],
   "source": []
  }
 ],
 "metadata": {
  "kernelspec": {
   "display_name": "Python 2",
   "language": "python",
   "name": "python2"
  },
  "language_info": {
   "codemirror_mode": {
    "name": "ipython",
    "version": 2
   },
   "file_extension": ".py",
   "mimetype": "text/x-python",
   "name": "python",
   "nbconvert_exporter": "python",
   "pygments_lexer": "ipython2",
   "version": "2.7.11"
  }
 },
 "nbformat": 4,
 "nbformat_minor": 0
}
