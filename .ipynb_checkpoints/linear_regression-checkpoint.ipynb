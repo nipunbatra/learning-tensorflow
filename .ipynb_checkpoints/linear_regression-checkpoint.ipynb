{
 "cells": [
  {
   "cell_type": "code",
   "execution_count": 1,
   "metadata": {
    "collapsed": true
   },
   "outputs": [],
   "source": [
    "import numpy as np\n",
    "import pandas as pd\n",
    "import matplotlib.pyplot as plt\n",
    "import tensorflow as tf"
   ]
  },
  {
   "cell_type": "code",
   "execution_count": 98,
   "metadata": {
    "collapsed": false
   },
   "outputs": [],
   "source": [
    "n_samples = 50\n",
    "train_X = np.linspace(1, 50, n_samples)\n",
    "train_Y = 10*train_X + 6 +10*np.random.randn(50)"
   ]
  },
  {
   "cell_type": "code",
   "execution_count": 99,
   "metadata": {
    "collapsed": false
   },
   "outputs": [],
   "source": [
    "%matplotlib inline"
   ]
  },
  {
   "cell_type": "code",
   "execution_count": 100,
   "metadata": {
    "collapsed": false
   },
   "outputs": [
    {
     "data": {
      "text/plain": [
       "[<matplotlib.lines.Line2D at 0x10eac7fd0>]"
      ]
     },
     "execution_count": 100,
     "metadata": {},
     "output_type": "execute_result"
    },
    {
     "data": {
      "image/png": "[encoded data removed]",
      "text/plain": [
       "<matplotlib.figure.Figure at 0x10e940d50>"
      ]
     },
     "metadata": {},
     "output_type": "display_data"
    }
   ],
   "source": [
    "plt.plot(train_X, train_Y, 'ro')"
   ]
  },
  {
   "cell_type": "code",
   "execution_count": 101,
   "metadata": {
    "collapsed": true
   },
   "outputs": [],
   "source": [
    "X = tf.placeholder(\"float\")\n",
    "Y = tf.placeholder(\"float\")\n",
    "\n",
    "# Set model weights\n",
    "W = tf.Variable(np.random.randn(), name=\"weight\")\n",
    "b = tf.Variable(np.random.randn(), name=\"bias\")"
   ]
  },
  {
   "cell_type": "code",
   "execution_count": 102,
   "metadata": {
    "collapsed": false
   },
   "outputs": [],
   "source": [
    "# Construct a linear model\n",
    "pred = tf.add(tf.multiply(X, W), b)"
   ]
  },
  {
   "cell_type": "code",
   "execution_count": 103,
   "metadata": {
    "collapsed": false
   },
   "outputs": [],
   "source": [
    "# Mean squared error\n",
    "cost = tf.reduce_sum(tf.pow(pred-Y, 2))/(2*n_samples)"
   ]
  },
  {
   "cell_type": "code",
   "execution_count": 111,
   "metadata": {
    "collapsed": false
   },
   "outputs": [],
   "source": [
    "# Gradient descent\n",
    "learning_rate=0.0001\n",
    "optimizer = tf.train.GradientDescentOptimizer(learning_rate).minimize(cost)\n"
   ]
  },
  {
   "cell_type": "code",
   "execution_count": 112,
   "metadata": {
    "collapsed": true
   },
   "outputs": [],
   "source": [
    "# Initializing the variables\n",
    "init = tf.global_variables_initializer()"
   ]
  },
  {
   "cell_type": "code",
   "execution_count": 113,
   "metadata": {
    "collapsed": true
   },
   "outputs": [],
   "source": [
    "training_epochs=200\n",
    "display_step=10"
   ]
  },
  {
   "cell_type": "code",
   "execution_count": 114,
   "metadata": {
    "collapsed": false
   },
   "outputs": [
    {
     "name": "stdout",
     "output_type": "stream",
     "text": [
      "Epoch: 0010 cost= 10337.360351562 W= 5.344 b= -0.0978129\n",
      "Epoch: 0020 cost= 1886.461425781 W= 8.16673 b= -0.0122649\n",
      "Epoch: 0030 cost= 374.318389893 W= 9.3605 b= 0.0244772\n",
      "Epoch: 0040 cost= 103.602394104 W= 9.86534 b= 0.0405782\n",
      "Epoch: 0050 cost= 55.069637299 W= 10.0788 b= 0.0479498\n",
      "Epoch: 0060 cost= 46.342971802 W= 10.1691 b= 0.0516292\n",
      "Epoch: 0070 cost= 44.761650085 W= 10.2073 b= 0.0537473\n",
      "Epoch: 0080 cost= 44.469585419 W= 10.2234 b= 0.0552047\n",
      "Epoch: 0090 cost= 44.413143158 W= 10.2302 b= 0.0563824\n",
      "Epoch: 0100 cost= 44.400802612 W= 10.2331 b= 0.0574419\n",
      "Epoch: 0110 cost= 44.397144318 W= 10.2343 b= 0.058451\n",
      "Epoch: 0120 cost= 44.395484924 W= 10.2348 b= 0.0594386\n",
      "Epoch: 0130 cost= 44.394298553 W= 10.2349 b= 0.0604169\n",
      "Epoch: 0140 cost= 44.393264771 W= 10.235 b= 0.0613916\n",
      "Epoch: 0150 cost= 44.392284393 W= 10.235 b= 0.0623645\n",
      "Epoch: 0160 cost= 44.391307831 W= 10.235 b= 0.0633365\n",
      "Epoch: 0170 cost= 44.390365601 W= 10.235 b= 0.064308\n",
      "Epoch: 0180 cost= 44.389427185 W= 10.2349 b= 0.0652793\n",
      "Epoch: 0190 cost= 44.388477325 W= 10.2349 b= 0.0662504\n",
      "Epoch: 0200 cost= 44.387527466 W= 10.2349 b= 0.0672213\n",
      "Optimization Finished!\n",
      "Training cost= 44.3875 W= 10.2349 b= 0.0672213 \n",
      "\n"
     ]
    }
   ],
   "source": [
    "# Launch the graph\n",
    "with tf.Session() as sess:\n",
    "    sess.run(init)\n",
    "\n",
    "    # Fit all training data\n",
    "    for epoch in range(training_epochs):\n",
    "        for (x, y) in zip(train_X, train_Y):\n",
    "            sess.run(optimizer, feed_dict={X: x, Y: y})\n",
    "\n",
    "        #Display logs per epoch step\n",
    "        if (epoch+1) % display_step == 0:\n",
    "            c = sess.run(cost, feed_dict={X: train_X, Y:train_Y})\n",
    "            print \"Epoch:\", '%04d' % (epoch+1), \"cost=\", \"{:.9f}\".format(c), \\\n",
    "                \"W=\", sess.run(W), \"b=\", sess.run(b)\n",
    "\n",
    "    print \"Optimization Finished!\"\n",
    "    training_cost = sess.run(cost, feed_dict={X: train_X, Y: train_Y})\n",
    "    print \"Training cost=\", training_cost, \"W=\", sess.run(W), \"b=\", sess.run(b), '\\n'"
   ]
  },
  {
   "cell_type": "code",
   "execution_count": null,
   "metadata": {
    "collapsed": true
   },
   "outputs": [],
   "source": []
  }
 ],
 "metadata": {
  "kernelspec": {
   "display_name": "Python 2",
   "language": "python",
   "name": "python2"
  },
  "language_info": {
   "codemirror_mode": {
    "name": "ipython",
    "version": 2
   },
   "file_extension": ".py",
   "mimetype": "text/x-python",
   "name": "python",
   "nbconvert_exporter": "python",
   "pygments_lexer": "ipython2",
   "version": "2.7.11"
  }
 },
 "nbformat": 4,
 "nbformat_minor": 0
}
