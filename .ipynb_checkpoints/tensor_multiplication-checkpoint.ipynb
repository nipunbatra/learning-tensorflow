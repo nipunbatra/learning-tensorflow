{
 "cells": [
  {
   "cell_type": "code",
   "execution_count": 5,
   "metadata": {
    "collapsed": true
   },
   "outputs": [],
   "source": [
    "import tensorflow as tf\n",
    "import numpy as np"
   ]
  },
  {
   "cell_type": "markdown",
   "metadata": {},
   "source": [
    "### Basic operations"
   ]
  },
  {
   "cell_type": "code",
   "execution_count": 2,
   "metadata": {
    "collapsed": true
   },
   "outputs": [],
   "source": [
    "a = tf.Variable(2.0)\n",
    "b = tf.Variable(3.0)"
   ]
  },
  {
   "cell_type": "code",
   "execution_count": 3,
   "metadata": {
    "collapsed": false
   },
   "outputs": [],
   "source": [
    "c = tf.add(a, b)"
   ]
  },
  {
   "cell_type": "code",
   "execution_count": 4,
   "metadata": {
    "collapsed": false
   },
   "outputs": [
    {
     "name": "stdout",
     "output_type": "stream",
     "text": [
      "(5.0, 2.0)\n"
     ]
    }
   ],
   "source": [
    "with tf.Session() as sess:\n",
    "    sess.run(tf.global_variables_initializer())\n",
    "    print(sess.run(c), sess.run(a))"
   ]
  },
  {
   "cell_type": "code",
   "execution_count": 6,
   "metadata": {
    "collapsed": true
   },
   "outputs": [],
   "source": [
    "d_np = np.array([[2, 3], [4, 5]], dtype=np.float32)\n",
    "e_np = np.array([[3, 1], [2, 1]], dtype=np.float32)\n",
    "d = tf.Variable(d_np)\n",
    "e = tf.Variable(e_np)"
   ]
  },
  {
   "cell_type": "code",
   "execution_count": 11,
   "metadata": {
    "collapsed": true
   },
   "outputs": [],
   "source": [
    "f = tf.multiply(d, e)\n",
    "g = tf.matmul(d, e)"
   ]
  },
  {
   "cell_type": "code",
   "execution_count": 12,
   "metadata": {
    "collapsed": false
   },
   "outputs": [
    {
     "name": "stdout",
     "output_type": "stream",
     "text": [
      "[[ 2.  3.]\n",
      " [ 4.  5.]]\n",
      "[[ 3.  1.]\n",
      " [ 2.  1.]]\n",
      "[[ 6.  3.]\n",
      " [ 8.  5.]]\n",
      "[[ 12.   5.]\n",
      " [ 22.   9.]]\n"
     ]
    }
   ],
   "source": [
    "with tf.Session() as sess:\n",
    "    sess.run(tf.global_variables_initializer())\n",
    "    print sess.run(d)\n",
    "    print sess.run(e)\n",
    "    print sess.run(f)\n",
    "    print sess.run(g)"
   ]
  },
  {
   "cell_type": "markdown",
   "metadata": {},
   "source": [
    "\n",
    "energy_breakdown_mat = M X N X T\n"
   ]
  },
  {
   "cell_type": "code",
   "execution_count": 44,
   "metadata": {
    "collapsed": true
   },
   "outputs": [],
   "source": [
    "M = 30\n",
    "N = 5\n",
    "T = 12\n",
    "h = 2\n",
    "s = 3"
   ]
  },
  {
   "cell_type": "code",
   "execution_count": 45,
   "metadata": {
    "collapsed": false
   },
   "outputs": [
    {
     "name": "stdout",
     "output_type": "stream",
     "text": [
      "[[ 1.41867899 -1.0411568 ]\n",
      " [-3.18309356 -1.82132223]\n",
      " [-2.08941212  0.07500613]\n",
      " [-0.13773874 -0.77307463]\n",
      " [-0.348606   -1.21681708]\n",
      " [ 0.0066905   0.41656704]\n",
      " [ 1.18049108 -0.02088023]\n",
      " [-1.15929389  0.62926996]\n",
      " [ 0.40782286  0.70671878]\n",
      " [ 0.11849443  0.47095296]\n",
      " [ 1.23504839 -1.24651112]\n",
      " [-0.51967144  1.2756471 ]\n",
      " [-0.86552365 -0.11287777]\n",
      " [-0.16972631 -1.60113035]\n",
      " [-0.11289317  1.21882358]\n",
      " [ 1.97854492 -0.09297367]\n",
      " [-0.6188081  -0.0307116 ]\n",
      " [ 0.13239103  2.08979847]\n",
      " [ 0.30300197  0.54692609]\n",
      " [-1.49098573 -0.10372168]\n",
      " [ 0.20085741  0.55560474]\n",
      " [-0.91108655 -0.63413984]\n",
      " [ 0.55892924  1.27151154]\n",
      " [-0.7151149   0.93246459]\n",
      " [-1.62218172  0.53677052]\n",
      " [-0.90856419  0.35361475]\n",
      " [-0.32086791  0.14643282]\n",
      " [ 1.63864456  1.31606463]\n",
      " [-0.31410367  0.91429537]\n",
      " [ 0.91135273  0.56907987]]\n"
     ]
    }
   ],
   "source": [
    "A_np = np.random.randn(M, h)\n",
    "print A_np"
   ]
  },
  {
   "cell_type": "code",
   "execution_count": 52,
   "metadata": {
    "collapsed": false
   },
   "outputs": [
    {
     "name": "stdout",
     "output_type": "stream",
     "text": [
      "[[ 1.01517498  0.74472007 -1.09423233]\n",
      " [-0.33762333 -1.06631965 -1.61417417]\n",
      " [ 1.25131486  0.29236523 -0.3338139 ]]\n"
     ]
    }
   ],
   "source": [
    "C_np = np.random.randn(T, s).transpose()\n",
    "print season_matrix_np"
   ]
  },
  {
   "cell_type": "code",
   "execution_count": 47,
   "metadata": {
    "collapsed": false
   },
   "outputs": [
    {
     "name": "stdout",
     "output_type": "stream",
     "text": [
      "[[[ 0.48676206  0.4249832   0.96143786]\n",
      "  [-0.58235742  0.27692447 -2.00858837]]\n",
      "\n",
      " [[ 0.02171225 -1.22799707  0.75716961]\n",
      "  [-3.15113598  1.27763768  0.42271488]]]\n"
     ]
    }
   ],
   "source": [
    "B_np = np.random.randn(h, N, s)\n",
    "print appliance_matrix_np"
   ]
  },
  {
   "cell_type": "code",
   "execution_count": 48,
   "metadata": {
    "collapsed": true
   },
   "outputs": [],
   "source": [
    "A_tf = tf.Variable(A_np)\n",
    "C_tf = tf.Variable(C_np)\n",
    "B_tf = tf.Variable(B_np)"
   ]
  },
  {
   "cell_type": "code",
   "execution_count": 49,
   "metadata": {
    "collapsed": false
   },
   "outputs": [
    {
     "name": "stdout",
     "output_type": "stream",
     "text": [
      "[[ 1.41867899 -1.0411568 ]\n",
      " [-3.18309356 -1.82132223]\n",
      " [-2.08941212  0.07500613]\n",
      " [-0.13773874 -0.77307463]\n",
      " [-0.348606   -1.21681708]\n",
      " [ 0.0066905   0.41656704]\n",
      " [ 1.18049108 -0.02088023]\n",
      " [-1.15929389  0.62926996]\n",
      " [ 0.40782286  0.70671878]\n",
      " [ 0.11849443  0.47095296]\n",
      " [ 1.23504839 -1.24651112]\n",
      " [-0.51967144  1.2756471 ]\n",
      " [-0.86552365 -0.11287777]\n",
      " [-0.16972631 -1.60113035]\n",
      " [-0.11289317  1.21882358]\n",
      " [ 1.97854492 -0.09297367]\n",
      " [-0.6188081  -0.0307116 ]\n",
      " [ 0.13239103  2.08979847]\n",
      " [ 0.30300197  0.54692609]\n",
      " [-1.49098573 -0.10372168]\n",
      " [ 0.20085741  0.55560474]\n",
      " [-0.91108655 -0.63413984]\n",
      " [ 0.55892924  1.27151154]\n",
      " [-0.7151149   0.93246459]\n",
      " [-1.62218172  0.53677052]\n",
      " [-0.90856419  0.35361475]\n",
      " [-0.32086791  0.14643282]\n",
      " [ 1.63864456  1.31606463]\n",
      " [-0.31410367  0.91429537]\n",
      " [ 0.91135273  0.56907987]]\n"
     ]
    },
    {
     "ename": "ValueError",
     "evalue": "Shape must be rank 2 but is rank 3 for 'MatMul_3' (op: 'MatMul') with input shapes: [30,2], [2,5,3].",
     "output_type": "error",
     "traceback": [
      "\u001b[0;31m---------------------------------------------------------------------------\u001b[0m",
      "\u001b[0;31mValueError\u001b[0m                                Traceback (most recent call last)",
      "\u001b[0;32m<ipython-input-49-ea05f71c70b1>\u001b[0m in \u001b[0;36m<module>\u001b[0;34m()\u001b[0m\n\u001b[1;32m      2\u001b[0m     \u001b[0msess\u001b[0m\u001b[0;34m.\u001b[0m\u001b[0mrun\u001b[0m\u001b[0;34m(\u001b[0m\u001b[0mtf\u001b[0m\u001b[0;34m.\u001b[0m\u001b[0mglobal_variables_initializer\u001b[0m\u001b[0;34m(\u001b[0m\u001b[0;34m)\u001b[0m\u001b[0;34m)\u001b[0m\u001b[0;34m\u001b[0m\u001b[0m\n\u001b[1;32m      3\u001b[0m     \u001b[0;32mprint\u001b[0m \u001b[0msess\u001b[0m\u001b[0;34m.\u001b[0m\u001b[0mrun\u001b[0m\u001b[0;34m(\u001b[0m\u001b[0mA_tf\u001b[0m\u001b[0;34m)\u001b[0m\u001b[0;34m\u001b[0m\u001b[0m\n\u001b[0;32m----> 4\u001b[0;31m     \u001b[0mebm\u001b[0m \u001b[0;34m=\u001b[0m \u001b[0mtf\u001b[0m\u001b[0;34m.\u001b[0m\u001b[0mmatmul\u001b[0m\u001b[0;34m(\u001b[0m\u001b[0mA_tf\u001b[0m\u001b[0;34m,\u001b[0m \u001b[0mB_tf\u001b[0m\u001b[0;34m)\u001b[0m\u001b[0;34m\u001b[0m\u001b[0m\n\u001b[0m\u001b[1;32m      5\u001b[0m     \u001b[0msess\u001b[0m\u001b[0;34m.\u001b[0m\u001b[0mrun\u001b[0m\u001b[0;34m(\u001b[0m\u001b[0mebm\u001b[0m\u001b[0;34m)\u001b[0m\u001b[0;34m\u001b[0m\u001b[0m\n",
      "\u001b[0;32m/Users/nipunbatra/anaconda/lib/python2.7/site-packages/tensorflow/python/ops/math_ops.pyc\u001b[0m in \u001b[0;36mmatmul\u001b[0;34m(a, b, transpose_a, transpose_b, adjoint_a, adjoint_b, a_is_sparse, b_is_sparse, name)\u001b[0m\n\u001b[1;32m   1853\u001b[0m     \u001b[0;32melse\u001b[0m\u001b[0;34m:\u001b[0m\u001b[0;34m\u001b[0m\u001b[0m\n\u001b[1;32m   1854\u001b[0m       return gen_math_ops._mat_mul(\n\u001b[0;32m-> 1855\u001b[0;31m           a, b, transpose_a=transpose_a, transpose_b=transpose_b, name=name)\n\u001b[0m\u001b[1;32m   1856\u001b[0m \u001b[0;34m\u001b[0m\u001b[0m\n\u001b[1;32m   1857\u001b[0m \u001b[0;34m\u001b[0m\u001b[0m\n",
      "\u001b[0;32m/Users/nipunbatra/anaconda/lib/python2.7/site-packages/tensorflow/python/ops/gen_math_ops.pyc\u001b[0m in \u001b[0;36m_mat_mul\u001b[0;34m(a, b, transpose_a, transpose_b, name)\u001b[0m\n\u001b[1;32m   1452\u001b[0m   \"\"\"\n\u001b[1;32m   1453\u001b[0m   result = _op_def_lib.apply_op(\"MatMul\", a=a, b=b, transpose_a=transpose_a,\n\u001b[0;32m-> 1454\u001b[0;31m                                 transpose_b=transpose_b, name=name)\n\u001b[0m\u001b[1;32m   1455\u001b[0m   \u001b[0;32mreturn\u001b[0m \u001b[0mresult\u001b[0m\u001b[0;34m\u001b[0m\u001b[0m\n\u001b[1;32m   1456\u001b[0m \u001b[0;34m\u001b[0m\u001b[0m\n",
      "\u001b[0;32m/Users/nipunbatra/anaconda/lib/python2.7/site-packages/tensorflow/python/framework/op_def_library.pyc\u001b[0m in \u001b[0;36mapply_op\u001b[0;34m(self, op_type_name, name, **keywords)\u001b[0m\n\u001b[1;32m    761\u001b[0m         op = g.create_op(op_type_name, inputs, output_types, name=scope,\n\u001b[1;32m    762\u001b[0m                          \u001b[0minput_types\u001b[0m\u001b[0;34m=\u001b[0m\u001b[0minput_types\u001b[0m\u001b[0;34m,\u001b[0m \u001b[0mattrs\u001b[0m\u001b[0;34m=\u001b[0m\u001b[0mattr_protos\u001b[0m\u001b[0;34m,\u001b[0m\u001b[0;34m\u001b[0m\u001b[0m\n\u001b[0;32m--> 763\u001b[0;31m                          op_def=op_def)\n\u001b[0m\u001b[1;32m    764\u001b[0m         \u001b[0;32mif\u001b[0m \u001b[0moutput_structure\u001b[0m\u001b[0;34m:\u001b[0m\u001b[0;34m\u001b[0m\u001b[0m\n\u001b[1;32m    765\u001b[0m           \u001b[0moutputs\u001b[0m \u001b[0;34m=\u001b[0m \u001b[0mop\u001b[0m\u001b[0;34m.\u001b[0m\u001b[0moutputs\u001b[0m\u001b[0;34m\u001b[0m\u001b[0m\n",
      "\u001b[0;32m/Users/nipunbatra/anaconda/lib/python2.7/site-packages/tensorflow/python/framework/ops.pyc\u001b[0m in \u001b[0;36mcreate_op\u001b[0;34m(self, op_type, inputs, dtypes, input_types, name, attrs, op_def, compute_shapes, compute_device)\u001b[0m\n\u001b[1;32m   2395\u001b[0m                     original_op=self._default_original_op, op_def=op_def)\n\u001b[1;32m   2396\u001b[0m     \u001b[0;32mif\u001b[0m \u001b[0mcompute_shapes\u001b[0m\u001b[0;34m:\u001b[0m\u001b[0;34m\u001b[0m\u001b[0m\n\u001b[0;32m-> 2397\u001b[0;31m       \u001b[0mset_shapes_for_outputs\u001b[0m\u001b[0;34m(\u001b[0m\u001b[0mret\u001b[0m\u001b[0;34m)\u001b[0m\u001b[0;34m\u001b[0m\u001b[0m\n\u001b[0m\u001b[1;32m   2398\u001b[0m     \u001b[0mself\u001b[0m\u001b[0;34m.\u001b[0m\u001b[0m_add_op\u001b[0m\u001b[0;34m(\u001b[0m\u001b[0mret\u001b[0m\u001b[0;34m)\u001b[0m\u001b[0;34m\u001b[0m\u001b[0m\n\u001b[1;32m   2399\u001b[0m     \u001b[0mself\u001b[0m\u001b[0;34m.\u001b[0m\u001b[0m_record_op_seen_by_control_dependencies\u001b[0m\u001b[0;34m(\u001b[0m\u001b[0mret\u001b[0m\u001b[0;34m)\u001b[0m\u001b[0;34m\u001b[0m\u001b[0m\n",
      "\u001b[0;32m/Users/nipunbatra/anaconda/lib/python2.7/site-packages/tensorflow/python/framework/ops.pyc\u001b[0m in \u001b[0;36mset_shapes_for_outputs\u001b[0;34m(op)\u001b[0m\n\u001b[1;32m   1755\u001b[0m       \u001b[0mshape_func\u001b[0m \u001b[0;34m=\u001b[0m \u001b[0m_call_cpp_shape_fn_and_require_op\u001b[0m\u001b[0;34m\u001b[0m\u001b[0m\n\u001b[1;32m   1756\u001b[0m \u001b[0;34m\u001b[0m\u001b[0m\n\u001b[0;32m-> 1757\u001b[0;31m   \u001b[0mshapes\u001b[0m \u001b[0;34m=\u001b[0m \u001b[0mshape_func\u001b[0m\u001b[0;34m(\u001b[0m\u001b[0mop\u001b[0m\u001b[0;34m)\u001b[0m\u001b[0;34m\u001b[0m\u001b[0m\n\u001b[0m\u001b[1;32m   1758\u001b[0m   \u001b[0;32mif\u001b[0m \u001b[0mshapes\u001b[0m \u001b[0;32mis\u001b[0m \u001b[0mNone\u001b[0m\u001b[0;34m:\u001b[0m\u001b[0;34m\u001b[0m\u001b[0m\n\u001b[1;32m   1759\u001b[0m     raise RuntimeError(\n",
      "\u001b[0;32m/Users/nipunbatra/anaconda/lib/python2.7/site-packages/tensorflow/python/framework/ops.pyc\u001b[0m in \u001b[0;36mcall_with_requiring\u001b[0;34m(op)\u001b[0m\n\u001b[1;32m   1705\u001b[0m \u001b[0;34m\u001b[0m\u001b[0m\n\u001b[1;32m   1706\u001b[0m   \u001b[0;32mdef\u001b[0m \u001b[0mcall_with_requiring\u001b[0m\u001b[0;34m(\u001b[0m\u001b[0mop\u001b[0m\u001b[0;34m)\u001b[0m\u001b[0;34m:\u001b[0m\u001b[0;34m\u001b[0m\u001b[0m\n\u001b[0;32m-> 1707\u001b[0;31m     \u001b[0;32mreturn\u001b[0m \u001b[0mcall_cpp_shape_fn\u001b[0m\u001b[0;34m(\u001b[0m\u001b[0mop\u001b[0m\u001b[0;34m,\u001b[0m \u001b[0mrequire_shape_fn\u001b[0m\u001b[0;34m=\u001b[0m\u001b[0mTrue\u001b[0m\u001b[0;34m)\u001b[0m\u001b[0;34m\u001b[0m\u001b[0m\n\u001b[0m\u001b[1;32m   1708\u001b[0m \u001b[0;34m\u001b[0m\u001b[0m\n\u001b[1;32m   1709\u001b[0m   \u001b[0m_call_cpp_shape_fn_and_require_op\u001b[0m \u001b[0;34m=\u001b[0m \u001b[0mcall_with_requiring\u001b[0m\u001b[0;34m\u001b[0m\u001b[0m\n",
      "\u001b[0;32m/Users/nipunbatra/anaconda/lib/python2.7/site-packages/tensorflow/python/framework/common_shapes.pyc\u001b[0m in \u001b[0;36mcall_cpp_shape_fn\u001b[0;34m(op, input_tensors_needed, input_tensors_as_shapes_needed, debug_python_shape_fn, require_shape_fn)\u001b[0m\n\u001b[1;32m    608\u001b[0m     res = _call_cpp_shape_fn_impl(op, input_tensors_needed,\n\u001b[1;32m    609\u001b[0m                                   \u001b[0minput_tensors_as_shapes_needed\u001b[0m\u001b[0;34m,\u001b[0m\u001b[0;34m\u001b[0m\u001b[0m\n\u001b[0;32m--> 610\u001b[0;31m                                   debug_python_shape_fn, require_shape_fn)\n\u001b[0m\u001b[1;32m    611\u001b[0m     \u001b[0;32mif\u001b[0m \u001b[0;32mnot\u001b[0m \u001b[0misinstance\u001b[0m\u001b[0;34m(\u001b[0m\u001b[0mres\u001b[0m\u001b[0;34m,\u001b[0m \u001b[0mdict\u001b[0m\u001b[0;34m)\u001b[0m\u001b[0;34m:\u001b[0m\u001b[0;34m\u001b[0m\u001b[0m\n\u001b[1;32m    612\u001b[0m       \u001b[0;31m# Handles the case where _call_cpp_shape_fn_impl calls unknown_shape(op).\u001b[0m\u001b[0;34m\u001b[0m\u001b[0;34m\u001b[0m\u001b[0m\n",
      "\u001b[0;32m/Users/nipunbatra/anaconda/lib/python2.7/site-packages/tensorflow/python/framework/common_shapes.pyc\u001b[0m in \u001b[0;36m_call_cpp_shape_fn_impl\u001b[0;34m(op, input_tensors_needed, input_tensors_as_shapes_needed, debug_python_shape_fn, require_shape_fn)\u001b[0m\n\u001b[1;32m    673\u001b[0m       \u001b[0mmissing_shape_fn\u001b[0m \u001b[0;34m=\u001b[0m \u001b[0mTrue\u001b[0m\u001b[0;34m\u001b[0m\u001b[0m\n\u001b[1;32m    674\u001b[0m     \u001b[0;32melse\u001b[0m\u001b[0;34m:\u001b[0m\u001b[0;34m\u001b[0m\u001b[0m\n\u001b[0;32m--> 675\u001b[0;31m       \u001b[0;32mraise\u001b[0m \u001b[0mValueError\u001b[0m\u001b[0;34m(\u001b[0m\u001b[0merr\u001b[0m\u001b[0;34m.\u001b[0m\u001b[0mmessage\u001b[0m\u001b[0;34m)\u001b[0m\u001b[0;34m\u001b[0m\u001b[0m\n\u001b[0m\u001b[1;32m    676\u001b[0m \u001b[0;34m\u001b[0m\u001b[0m\n\u001b[1;32m    677\u001b[0m   \u001b[0;32mif\u001b[0m \u001b[0mmissing_shape_fn\u001b[0m\u001b[0;34m:\u001b[0m\u001b[0;34m\u001b[0m\u001b[0m\n",
      "\u001b[0;31mValueError\u001b[0m: Shape must be rank 2 but is rank 3 for 'MatMul_3' (op: 'MatMul') with input shapes: [30,2], [2,5,3]."
     ]
    }
   ],
   "source": [
    "with tf.Session() as sess:\n",
    "    sess.run(tf.global_variables_initializer())\n",
    "    print sess.run(A_tf)\n",
    "    ebm = tf.matmul(A_tf, B_tf)\n",
    "    sess.run(ebm)"
   ]
  },
  {
   "cell_type": "code",
   "execution_count": 50,
   "metadata": {
    "collapsed": false
   },
   "outputs": [
    {
     "ename": "ValueError",
     "evalue": "operands could not be broadcast together with shapes (30,2) (2,5,3) ",
     "output_type": "error",
     "traceback": [
      "\u001b[0;31m---------------------------------------------------------------------------\u001b[0m",
      "\u001b[0;31mValueError\u001b[0m                                Traceback (most recent call last)",
      "\u001b[0;32m<ipython-input-50-c097dd6c1368>\u001b[0m in \u001b[0;36m<module>\u001b[0;34m()\u001b[0m\n\u001b[0;32m----> 1\u001b[0;31m \u001b[0mnp\u001b[0m\u001b[0;34m.\u001b[0m\u001b[0mmultiply\u001b[0m\u001b[0;34m(\u001b[0m\u001b[0mA_np\u001b[0m\u001b[0;34m,\u001b[0m \u001b[0mB_np\u001b[0m\u001b[0;34m)\u001b[0m\u001b[0;34m\u001b[0m\u001b[0m\n\u001b[0m",
      "\u001b[0;31mValueError\u001b[0m: operands could not be broadcast together with shapes (30,2) (2,5,3) "
     ]
    }
   ],
   "source": [
    "np.multiply(A_np, B_np)"
   ]
  },
  {
   "cell_type": "code",
   "execution_count": 57,
   "metadata": {
    "collapsed": false
   },
   "outputs": [
    {
     "data": {
      "text/plain": [
       "(30, 5, 12)"
      ]
     },
     "execution_count": 57,
     "metadata": {},
     "output_type": "execute_result"
    }
   ],
   "source": [
    "np.tensordot(np.tensordot(A_np, B_np, axes=1), C_np, axes=1).shape"
   ]
  },
  {
   "cell_type": "code",
   "execution_count": 56,
   "metadata": {
    "collapsed": false
   },
   "outputs": [
    {
     "data": {
      "text/plain": [
       "(30, 5, 3)"
      ]
     },
     "execution_count": 56,
     "metadata": {},
     "output_type": "execute_result"
    }
   ],
   "source": [
    "np.tensordot(A_np, B_np, axes=1).shape"
   ]
  },
  {
   "cell_type": "code",
   "execution_count": 54,
   "metadata": {
    "collapsed": false
   },
   "outputs": [
    {
     "data": {
      "text/plain": [
       "(30, 2)"
      ]
     },
     "execution_count": 54,
     "metadata": {},
     "output_type": "execute_result"
    }
   ],
   "source": [
    "A_np.shape"
   ]
  },
  {
   "cell_type": "code",
   "execution_count": 55,
   "metadata": {
    "collapsed": false
   },
   "outputs": [
    {
     "data": {
      "text/plain": [
       "(2, 5, 3)"
      ]
     },
     "execution_count": 55,
     "metadata": {},
     "output_type": "execute_result"
    }
   ],
   "source": [
    "B_np.shape"
   ]
  },
  {
   "cell_type": "code",
   "execution_count": 66,
   "metadata": {
    "collapsed": false
   },
   "outputs": [
    {
     "data": {
      "text/plain": [
       "array([ 1.41867899, -1.0411568 ])"
      ]
     },
     "execution_count": 66,
     "metadata": {},
     "output_type": "execute_result"
    }
   ],
   "source": [
    "A_np[0]"
   ]
  },
  {
   "cell_type": "code",
   "execution_count": 67,
   "metadata": {
    "collapsed": false
   },
   "outputs": [
    {
     "data": {
      "text/plain": [
       "array([[-1.58466939, -0.37486809,  0.15841284],\n",
       "       [-1.2051    ,  2.0770417 , -0.92633933]])"
      ]
     },
     "execution_count": 67,
     "metadata": {},
     "output_type": "execute_result"
    }
   ],
   "source": [
    "B_np[:,0,:]"
   ]
  },
  {
   "cell_type": "code",
   "execution_count": 72,
   "metadata": {
    "collapsed": false
   },
   "outputs": [
    {
     "data": {
      "text/plain": [
       "array([-0.40439877,  0.99113465, -1.08934034])"
      ]
     },
     "execution_count": 72,
     "metadata": {},
     "output_type": "execute_result"
    }
   ],
   "source": [
    "C_np[:,0]"
   ]
  },
  {
   "cell_type": "code",
   "execution_count": 74,
   "metadata": {
    "collapsed": false
   },
   "outputs": [
    {
     "data": {
      "text/plain": [
       "-0.9872399999999999"
      ]
     },
     "execution_count": 74,
     "metadata": {},
     "output_type": "execute_result"
    }
   ],
   "source": [
    "1.418*-1.58-1.04*-1.205"
   ]
  },
  {
   "cell_type": "code",
   "execution_count": 76,
   "metadata": {
    "collapsed": false
   },
   "outputs": [
    {
     "data": {
      "text/plain": [
       "-3.5641568237513832"
      ]
     },
     "execution_count": 76,
     "metadata": {},
     "output_type": "execute_result"
    }
   ],
   "source": [
    "np.dot(A_np[0], B_np[:,0,:]).dot(C_np[:,0])"
   ]
  },
  {
   "cell_type": "code",
   "execution_count": 77,
   "metadata": {
    "collapsed": false
   },
   "outputs": [
    {
     "data": {
      "text/plain": [
       "array([[[ -3.56415682e+00,   8.59419584e+00,  -2.10124677e+00, ...,\n",
       "           2.22985000e+00,   5.71755514e+00,  -2.66893269e+00],\n",
       "        [  1.95410025e+00,  -3.67523354e+00,  -4.72158064e-03, ...,\n",
       "          -1.69103142e+00,  -2.00220627e-02,   1.26161446e+00],\n",
       "        [ -9.36431323e-01,  -2.51922832e+00,   2.73154210e+00, ...,\n",
       "          -2.14396096e+00,  -1.37992631e+00,  -5.62929379e-01],\n",
       "        [  2.06055304e+00,   5.02920687e+00,  -6.27298398e+00, ...,\n",
       "           2.95312006e+00,   6.17721752e+00,   1.01559875e+00],\n",
       "        [ -5.97694904e+00,   1.01103524e+01,   1.39374275e-01, ...,\n",
       "           2.96791711e+00,   3.03504267e+00,  -4.07824212e+00]],\n",
       "\n",
       "       [[ -6.78281853e+00,   1.06967721e+01,   1.34381298e+00, ...,\n",
       "           4.48069169e+00,  -6.76603805e-01,  -4.35377251e+00],\n",
       "        [ -5.88730927e+00,   4.67744153e+00,   3.97433512e+00, ...,\n",
       "           3.99855283e-01,  -1.35656977e+00,  -3.78421014e+00],\n",
       "        [ -1.11172104e+00,   4.66903869e+00,  -2.50402576e+00, ...,\n",
       "           6.80839250e-01,   5.68354000e+00,  -1.07627028e+00],\n",
       "        [ -7.88473125e+00,   3.58140989e+00,   7.03375306e+00, ...,\n",
       "          -1.31549054e+00,  -2.68954487e+00,  -5.04187067e+00],\n",
       "        [  1.46646412e+00,  -2.56364488e+01,   1.68336988e+01, ...,\n",
       "          -1.16869446e+01,  -2.00483809e+01,   2.03874041e+00]],\n",
       "\n",
       "       [[  6.45470032e-02,  -2.14064266e+00,   1.91223367e+00, ...,\n",
       "           4.28071125e-02,  -4.15788410e+00,   3.02795282e-01],\n",
       "        [ -3.40518423e+00,   4.16094784e+00,   1.39742610e+00, ...,\n",
       "           1.29981022e+00,  -4.62152712e-01,  -2.19258327e+00],\n",
       "        [  2.52122398e-01,   3.36532629e+00,  -2.75142800e+00, ...,\n",
       "           1.70895302e+00,   2.93999079e+00,   8.44782087e-03],\n",
       "        [ -4.17887048e+00,  -2.19218069e+00,   6.76881693e+00, ...,\n",
       "          -2.48642853e+00,  -5.17921057e+00,  -2.46507477e+00],\n",
       "        [  4.61283209e+00,  -1.59258910e+01,   5.80965752e+00, ...,\n",
       "          -6.13485941e+00,  -9.11406196e+00,   3.51164032e+00]],\n",
       "\n",
       "       ..., \n",
       "       [[  4.83720191e+00,  -8.23576915e+00,  -3.84941835e-01, ...,\n",
       "          -3.16997641e+00,  -7.57901367e-01,   3.18276753e+00],\n",
       "        [  3.16757611e+00,  -2.08306325e+00,  -2.40680123e+00, ...,\n",
       "           1.03148429e-01,   8.25938168e-01,   2.03489847e+00],\n",
       "        [  8.64777871e-01,  -2.31408596e+00,   9.59094390e-01, ...,\n",
       "           2.54309151e-02,  -3.16140156e+00,   7.67013236e-01],\n",
       "        [  4.35592842e+00,  -3.19693282e+00,  -2.97999502e+00, ...,\n",
       "           1.93788674e-01,   3.67709994e-01,   2.84707366e+00],\n",
       "        [  3.32362500e-01,   1.34662586e+01,  -1.02268022e+01, ...,\n",
       "           6.47408915e+00,   1.15259755e+01,  -4.02148567e-01]],\n",
       "\n",
       "       [[  3.21999933e+00,  -6.83365507e+00,   1.01962901e+00, ...,\n",
       "          -2.05353811e+00,  -3.26456425e+00,   2.29191328e+00],\n",
       "        [ -1.85463343e-01,   1.40067288e+00,  -6.50885365e-01, ...,\n",
       "           9.32679404e-01,   2.34941635e-01,  -1.22499387e-01],\n",
       "        [  7.35751074e-01,   7.19508372e-01,  -1.20095341e+00, ...,\n",
       "           1.15389066e+00,  -1.20034686e-01,   5.09391541e-01],\n",
       "        [  8.02063067e-02,  -3.55846976e+00,   2.54692603e+00, ...,\n",
       "          -1.52726357e+00,  -3.20488962e+00,   2.29608967e-01],\n",
       "        [  3.28780847e+00,  -1.75299260e+00,  -2.85099036e+00, ...,\n",
       "           1.69829982e-01,   1.50543209e+00,   2.07262011e+00]],\n",
       "\n",
       "       [[  2.11127092e+00,  -3.40596808e+00,  -3.46140614e-01, ...,\n",
       "          -1.39149136e+00,   5.45370494e-02,   1.36498307e+00],\n",
       "        [  1.70281110e+00,  -1.29832608e+00,  -1.18329210e+00, ...,\n",
       "          -7.56059226e-02,   4.04452009e-01,   1.09437981e+00],\n",
       "        [  3.55095009e-01,  -1.32553133e+00,   6.75412588e-01, ...,\n",
       "          -1.47633305e-01,  -1.65689123e+00,   3.34940709e-01],\n",
       "        [  2.29483556e+00,  -1.19565628e+00,  -1.93319292e+00, ...,\n",
       "           3.15815566e-01,   6.42105673e-01,   1.47518786e+00],\n",
       "        [ -2.83062954e-01,   7.37379011e+00,  -5.01604913e+00, ...,\n",
       "           3.40367968e+00,   5.89168837e+00,  -5.02259593e-01]]])"
      ]
     },
     "execution_count": 77,
     "metadata": {},
     "output_type": "execute_result"
    }
   ],
   "source": [
    "np.tensordot(np.tensordot(A_np, B_np, axes=1), C_np, axes=1)"
   ]
  },
  {
   "cell_type": "code",
   "execution_count": null,
   "metadata": {
    "collapsed": true
   },
   "outputs": [],
   "source": []
  }
 ],
 "metadata": {
  "kernelspec": {
   "display_name": "Python 2",
   "language": "python",
   "name": "python2"
  },
  "language_info": {
   "codemirror_mode": {
    "name": "ipython",
    "version": 2
   },
   "file_extension": ".py",
   "mimetype": "text/x-python",
   "name": "python",
   "nbconvert_exporter": "python",
   "pygments_lexer": "ipython2",
   "version": "2.7.11"
  }
 },
 "nbformat": 4,
 "nbformat_minor": 0
}
