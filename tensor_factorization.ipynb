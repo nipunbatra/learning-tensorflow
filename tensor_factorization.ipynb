{
 "cells": [
  {
   "cell_type": "markdown",
   "metadata": {},
   "source": [
    "## Tensor factorization"
   ]
  },
  {
   "cell_type": "markdown",
   "metadata": {},
   "source": [
    "#### Goal: Decompose matrix (E) [M X N X T] into  H [M X h], A [h X N X t], T [t X T]"
   ]
  },
  {
   "cell_type": "code",
   "execution_count": 1,
   "metadata": {
    "collapsed": true
   },
   "outputs": [],
   "source": [
    "import tensorflow as tf\n",
    "import numpy as np\n",
    "import pandas as pd"
   ]
  },
  {
   "cell_type": "code",
   "execution_count": 2,
   "metadata": {
    "collapsed": false
   },
   "outputs": [],
   "source": [
    "M, N, T = 4, 3, 6\n",
    "E_np = np.random.randn(M, N, T)"
   ]
  },
  {
   "cell_type": "code",
   "execution_count": 3,
   "metadata": {
    "collapsed": false
   },
   "outputs": [],
   "source": [
    "E_np = np.abs(E_np)"
   ]
  },
  {
   "cell_type": "code",
   "execution_count": 4,
   "metadata": {
    "collapsed": false
   },
   "outputs": [],
   "source": [
    "E_np = np.divide(E_np, E_np.max())"
   ]
  },
  {
   "cell_type": "code",
   "execution_count": 5,
   "metadata": {
    "collapsed": false
   },
   "outputs": [
    {
     "data": {
      "text/plain": [
       "array([[[ 0.87040848,  0.53706423,  0.26908776,  0.17061392,  0.01757035,\n",
       "          0.16487224],\n",
       "        [ 0.13057979,  0.03030039,  0.76963236,  0.49340988,  0.52477403,\n",
       "          0.40701924],\n",
       "        [ 0.2971993 ,  0.91078131,  0.46281024,  0.47778498,  0.84820028,\n",
       "          0.16711341]],\n",
       "\n",
       "       [[ 0.38515828,  0.16408813,  0.03671247,  0.64823068,  0.32059691,\n",
       "          0.4002224 ],\n",
       "        [ 0.31763234,  0.41064071,  0.2038274 ,  0.09008193,  0.16361373,\n",
       "          0.55699168],\n",
       "        [ 0.66306793,  0.3419301 ,  0.32785813,  0.31837216,  0.27082809,\n",
       "          0.39007442]],\n",
       "\n",
       "       [[ 0.276159  ,  0.18561849,  0.3981551 ,  0.02587821,  0.48943101,\n",
       "          0.64019114],\n",
       "        [ 0.13154903,  0.20887952,  0.04947734,  0.14516244,  0.43151843,\n",
       "          0.52246837],\n",
       "        [ 0.48529395,  0.49423497,  0.2019355 ,  0.76495262,  0.22156937,\n",
       "          0.14011292]],\n",
       "\n",
       "       [[ 0.4544879 ,  0.00442043,  0.23140011,  0.14417104,  1.        ,\n",
       "          0.45964817],\n",
       "        [ 0.35538703,  0.28034035,  0.53743098,  0.32639257,  0.27886306,\n",
       "          0.46734925],\n",
       "        [ 0.58156186,  0.47638991,  0.28392185,  0.13508851,  0.03314594,\n",
       "          0.28004957]]])"
      ]
     },
     "execution_count": 5,
     "metadata": {},
     "output_type": "execute_result"
    }
   ],
   "source": [
    "E_np"
   ]
  },
  {
   "cell_type": "code",
   "execution_count": 6,
   "metadata": {
    "collapsed": false
   },
   "outputs": [
    {
     "data": {
      "text/plain": [
       "203"
      ]
     },
     "execution_count": 6,
     "metadata": {},
     "output_type": "execute_result"
    }
   ],
   "source": [
    "(pd.Series([np.random.random() for x in range(1000)])>0.8).sum()"
   ]
  },
  {
   "cell_type": "markdown",
   "metadata": {},
   "source": [
    "### Masking appx. 20% of entries"
   ]
  },
  {
   "cell_type": "code",
   "execution_count": 8,
   "metadata": {
    "collapsed": false
   },
   "outputs": [],
   "source": [
    "E_np_masked = E_np.copy()\n",
    "for i in range(M):\n",
    "    for j in range(N):\n",
    "        for k in range(T):\n",
    "            if np.random.random()>0.8:\n",
    "                E_np_masked[i, j, k] = np.NAN"
   ]
  },
  {
   "cell_type": "code",
   "execution_count": 9,
   "metadata": {
    "collapsed": true
   },
   "outputs": [],
   "source": [
    "h = 2\n",
    "t = 3"
   ]
  },
  {
   "cell_type": "code",
   "execution_count": 10,
   "metadata": {
    "collapsed": false
   },
   "outputs": [],
   "source": [
    "E = tf.constant(E_np_masked, dtype='float32')\n",
    "\n",
    "initializer = tf.random_uniform_initializer(minval=0.2, maxval=1)\n",
    "\n",
    "H =  tf.get_variable(\"H\", [M, h], initializer=initializer)\n",
    "A =  tf.get_variable(name=\"A\", shape=[h, N, t], initializer=initializer)\n",
    "T =  tf.get_variable(name=\"T\", shape=[t, T], initializer=initializer)"
   ]
  },
  {
   "cell_type": "code",
   "execution_count": 11,
   "metadata": {
    "collapsed": false
   },
   "outputs": [
    {
     "data": {
      "text/plain": [
       "(TensorShape([Dimension(4), Dimension(2)]),\n",
       " TensorShape([Dimension(2), Dimension(3), Dimension(3)]),\n",
       " TensorShape([Dimension(3), Dimension(6)]))"
      ]
     },
     "execution_count": 11,
     "metadata": {},
     "output_type": "execute_result"
    }
   ],
   "source": [
    "H.get_shape(), A.get_shape(), T.get_shape()"
   ]
  },
  {
   "cell_type": "code",
   "execution_count": 12,
   "metadata": {
    "collapsed": false
   },
   "outputs": [
    {
     "data": {
      "text/plain": [
       "TensorShape([Dimension(4), Dimension(3), Dimension(6)])"
      ]
     },
     "execution_count": 12,
     "metadata": {},
     "output_type": "execute_result"
    }
   ],
   "source": [
    "HA = tf.tensordot(H, A,axes = [[1], [0]])\n",
    "HAT = tf.tensordot(HA, T, axes=[[2], [0]])\n",
    "HAT.get_shape()"
   ]
  },
  {
   "cell_type": "code",
   "execution_count": 13,
   "metadata": {
    "collapsed": false
   },
   "outputs": [
    {
     "data": {
      "text/plain": [
       "TensorShape([Dimension(4), Dimension(3), Dimension(6)])"
      ]
     },
     "execution_count": 13,
     "metadata": {},
     "output_type": "execute_result"
    }
   ],
   "source": [
    "E.get_shape()"
   ]
  },
  {
   "cell_type": "markdown",
   "metadata": {},
   "source": [
    "#### Boolean mask "
   ]
  },
  {
   "cell_type": "code",
   "execution_count": 14,
   "metadata": {
    "collapsed": false
   },
   "outputs": [],
   "source": [
    "mask = pd.Panel(E_np_masked).notnull().values"
   ]
  },
  {
   "cell_type": "code",
   "execution_count": 15,
   "metadata": {
    "collapsed": false
   },
   "outputs": [],
   "source": [
    "#cost of Frobenius norm\n",
    "f_norm = tf.reduce_sum(tf.pow(tf.boolean_mask(E, mask) - tf.boolean_mask(HAT, mask), 2))"
   ]
  },
  {
   "cell_type": "code",
   "execution_count": 16,
   "metadata": {
    "collapsed": false
   },
   "outputs": [
    {
     "data": {
      "text/plain": [
       "<tf.Tensor 'Sum:0' shape=() dtype=float32>"
      ]
     },
     "execution_count": 16,
     "metadata": {},
     "output_type": "execute_result"
    }
   ],
   "source": [
    "f_norm"
   ]
  },
  {
   "cell_type": "code",
   "execution_count": 17,
   "metadata": {
    "collapsed": true
   },
   "outputs": [],
   "source": [
    "lr = 0.01\n",
    "optimize = tf.train.AdagradOptimizer(lr).minimize(f_norm)"
   ]
  },
  {
   "cell_type": "code",
   "execution_count": 18,
   "metadata": {
    "collapsed": false
   },
   "outputs": [
    {
     "name": "stdout",
     "output_type": "stream",
     "text": [
      "cost, #iterations\n",
      "40.4676 , 0\n",
      "2.81335 , 1000\n",
      "2.29145 , 2000\n",
      "2.05039 , 3000\n",
      "1.89775 , 4000\n",
      "1.79153 , 5000\n",
      "1.70362 , 6000\n",
      "1.61857 , 7000\n",
      "1.53006 , 8000\n",
      "1.4365 , 9000\n"
     ]
    }
   ],
   "source": [
    "max_iter=10000\n",
    "display_step = int(max_iter/10)\n",
    "\n",
    "with tf.Session() as sess:\n",
    "    sess.run(tf.global_variables_initializer())\n",
    "    print \"cost, #iterations\"\n",
    "    pre_loss = 10e12\n",
    "    for i in xrange(max_iter):\n",
    "       \n",
    "        loss, _ = sess.run([f_norm, optimize])\n",
    "        if i%display_step==0:\n",
    "            print loss, \",\", i\n",
    "    A_out = sess.run(A)\n",
    "    H_out = sess.run(H)\n",
    "    T_out = sess.run(T)\n",
    "    HAT_out = sess.run(HAT)\n",
    "    "
   ]
  },
  {
   "cell_type": "code",
   "execution_count": 27,
   "metadata": {
    "collapsed": true
   },
   "outputs": [],
   "source": [
    "%matplotlib inline\n",
    "import matplotlib.pyplot as plt"
   ]
  },
  {
   "cell_type": "code",
   "execution_count": 31,
   "metadata": {
    "collapsed": false
   },
   "outputs": [
    {
     "data": {
      "text/plain": [
       "<matplotlib.text.Text at 0x10f9e9a90>"
      ]
     },
     "execution_count": 31,
     "metadata": {},
     "output_type": "execute_result"
    },
    {
     "data": {
      "image/png": "[encoded data removed]",
      "text/plain": [
       "<matplotlib.figure.Figure at 0x10fd913d0>"
      ]
     },
     "metadata": {},
     "output_type": "display_data"
    }
   ],
   "source": [
    "plt.scatter(E_np[~mask], HAT_out[~mask])\n",
    "plt.xlabel(\"GT\")\n",
    "plt.ylabel(\"Predicted\")"
   ]
  },
  {
   "cell_type": "code",
   "execution_count": 32,
   "metadata": {
    "collapsed": true
   },
   "outputs": [],
   "source": [
    "from sklearn.metrics import mean_squared_error"
   ]
  },
  {
   "cell_type": "code",
   "execution_count": 34,
   "metadata": {
    "collapsed": false
   },
   "outputs": [
    {
     "data": {
      "text/plain": [
       "0.089942666769340623"
      ]
     },
     "execution_count": 34,
     "metadata": {},
     "output_type": "execute_result"
    }
   ],
   "source": [
    "rmse_error = np.mean(mean_squared_error(E_np[~mask], HAT_out[~mask] ))\n",
    "rmse_error"
   ]
  }
 ],
 "metadata": {
  "kernelspec": {
   "display_name": "Python 2",
   "language": "python",
   "name": "python2"
  },
  "language_info": {
   "codemirror_mode": {
    "name": "ipython",
    "version": 2
   },
   "file_extension": ".py",
   "mimetype": "text/x-python",
   "name": "python",
   "nbconvert_exporter": "python",
   "pygments_lexer": "ipython2",
   "version": "2.7.11"
  }
 },
 "nbformat": 4,
 "nbformat_minor": 0
}
