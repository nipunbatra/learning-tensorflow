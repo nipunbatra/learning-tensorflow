{
 "cells": [
  {
   "cell_type": "code",
   "execution_count": 1,
   "metadata": {
    "collapsed": true
   },
   "outputs": [],
   "source": [
    "import tensorflow as tf\n",
    "import numpy as np\n",
    "import pandas as pd"
   ]
  },
  {
   "cell_type": "code",
   "execution_count": 2,
   "metadata": {
    "collapsed": true
   },
   "outputs": [],
   "source": [
    "V_df = pd.DataFrame([[3, 4, 5, 2],\n",
    "                   [4, 4, 3, 3],\n",
    "                   [5, 5, 4, 4]], dtype=np.float32).T"
   ]
  },
  {
   "cell_type": "code",
   "execution_count": 3,
   "metadata": {
    "collapsed": false
   },
   "outputs": [
    {
     "data": {
      "text/html": [
       "<div>\n",
       "<table border=\"1\" class=\"dataframe\">\n",
       "  <thead>\n",
       "    <tr style=\"text-align: right;\">\n",
       "      <th></th>\n",
       "      <th>0</th>\n",
       "      <th>1</th>\n",
       "      <th>2</th>\n",
       "    </tr>\n",
       "  </thead>\n",
       "  <tbody>\n",
       "    <tr>\n",
       "      <th>0</th>\n",
       "      <td>3.0</td>\n",
       "      <td>4.0</td>\n",
       "      <td>5.0</td>\n",
       "    </tr>\n",
       "    <tr>\n",
       "      <th>1</th>\n",
       "      <td>4.0</td>\n",
       "      <td>4.0</td>\n",
       "      <td>5.0</td>\n",
       "    </tr>\n",
       "    <tr>\n",
       "      <th>2</th>\n",
       "      <td>5.0</td>\n",
       "      <td>3.0</td>\n",
       "      <td>4.0</td>\n",
       "    </tr>\n",
       "    <tr>\n",
       "      <th>3</th>\n",
       "      <td>2.0</td>\n",
       "      <td>3.0</td>\n",
       "      <td>4.0</td>\n",
       "    </tr>\n",
       "  </tbody>\n",
       "</table>\n",
       "</div>"
      ],
      "text/plain": [
       "     0    1    2\n",
       "0  3.0  4.0  5.0\n",
       "1  4.0  4.0  5.0\n",
       "2  5.0  3.0  4.0\n",
       "3  2.0  3.0  4.0"
      ]
     },
     "execution_count": 3,
     "metadata": {},
     "output_type": "execute_result"
    }
   ],
   "source": [
    "V_df #(4 users, 3 movies)"
   ]
  },
  {
   "cell_type": "code",
   "execution_count": 6,
   "metadata": {
    "collapsed": false
   },
   "outputs": [],
   "source": [
    "A_np = V_df.values\n",
    "V = tf.constant(A_np)"
   ]
  },
  {
   "cell_type": "code",
   "execution_count": 7,
   "metadata": {
    "collapsed": false
   },
   "outputs": [
    {
     "data": {
      "text/plain": [
       "TensorShape([Dimension(4), Dimension(3)])"
      ]
     },
     "execution_count": 7,
     "metadata": {},
     "output_type": "execute_result"
    }
   ],
   "source": [
    "V.get_shape()"
   ]
  },
  {
   "cell_type": "code",
   "execution_count": 8,
   "metadata": {
    "collapsed": false
   },
   "outputs": [],
   "source": [
    "shape = V_df.shape\n",
    "rank = 2 #latent factors\n",
    "\n",
    "#initializer = tf.random_normal_initializer(mean=df.mean().mean()/5,stddev=0.1 )\n",
    "initializer = tf.random_uniform_initializer(maxval=1)\n",
    "\n",
    "H =  tf.get_variable(\"H\", [rank, shape[1]],\n",
    "                                     initializer=initializer)\n",
    "W =  tf.get_variable(name=\"W\", shape=[shape[0], rank],\n",
    "                                     initializer=initializer)"
   ]
  },
  {
   "cell_type": "code",
   "execution_count": 9,
   "metadata": {
    "collapsed": false
   },
   "outputs": [
    {
     "data": {
      "text/plain": [
       "(TensorShape([Dimension(4), Dimension(2)]),\n",
       " TensorShape([Dimension(2), Dimension(3)]))"
      ]
     },
     "execution_count": 9,
     "metadata": {},
     "output_type": "execute_result"
    }
   ],
   "source": [
    "W.get_shape(), H.get_shape()"
   ]
  },
  {
   "cell_type": "code",
   "execution_count": 10,
   "metadata": {
    "collapsed": false
   },
   "outputs": [
    {
     "data": {
      "text/plain": [
       "TensorShape([Dimension(4), Dimension(3)])"
      ]
     },
     "execution_count": 10,
     "metadata": {},
     "output_type": "execute_result"
    }
   ],
   "source": [
    "WH = tf.matmul(W, H)\n",
    "WH.get_shape()"
   ]
  },
  {
   "cell_type": "code",
   "execution_count": 11,
   "metadata": {
    "collapsed": true
   },
   "outputs": [],
   "source": [
    "#cost of Frobenius norm\n",
    "f_norm = tf.reduce_sum(tf.pow(V - WH, 2))"
   ]
  },
  {
   "cell_type": "code",
   "execution_count": 12,
   "metadata": {
    "collapsed": false
   },
   "outputs": [
    {
     "data": {
      "text/plain": [
       "<tf.Tensor 'Sum:0' shape=() dtype=float32>"
      ]
     },
     "execution_count": 12,
     "metadata": {},
     "output_type": "execute_result"
    }
   ],
   "source": [
    "f_norm"
   ]
  },
  {
   "cell_type": "code",
   "execution_count": 18,
   "metadata": {
    "collapsed": true
   },
   "outputs": [],
   "source": [
    "lr = 0.1\n",
    "optimize = tf.train.AdagradOptimizer(lr).minimize(f_norm)"
   ]
  },
  {
   "cell_type": "code",
   "execution_count": 19,
   "metadata": {
    "collapsed": false
   },
   "outputs": [
    {
     "name": "stdout",
     "output_type": "stream",
     "text": [
      "125.732 0\n",
      "4.92101 50\n",
      "4.04802 100\n",
      "3.77423 150\n",
      "3.24742 200\n",
      "2.3946 250\n",
      "1.45246 300\n",
      "0.772269 350\n",
      "0.40772 400\n",
      "0.229258 450\n",
      "0.13889 500\n",
      "0.0905827 550\n",
      "0.0637018 600\n",
      "0.0483402 650\n",
      "0.0394059 700\n",
      "0.0341488 750\n",
      "0.0310328 800\n",
      "0.0291771 850\n",
      "0.0280689 900\n",
      "0.0274063 950\n",
      "0.0270095 1000\n",
      "0.026772 1050\n",
      "0.0266296 1100\n",
      "0.0265444 1150\n",
      "0.0264933 1200\n",
      "0.0264627 1250\n",
      "0.0264444 1300\n",
      "0.0264334 1350\n",
      "0.0264268 1400\n",
      "0.026423 1450\n",
      "0.0264206 1500\n",
      "0.0264191 1550\n",
      "0.0264183 1600\n",
      "0.0264178 1650\n",
      "0.0264174 1700\n",
      "0.0264173 1750\n",
      "0.0264173 1800\n",
      "0.0264171 1850\n",
      "0.0264172 1900\n",
      "0.0264172 1950\n",
      "0.0264171 2000\n",
      "0.026417 2050\n",
      "0.0264171 2100\n",
      "0.026417 2150\n",
      "0.026417 2200\n",
      "0.026417 2250\n",
      "0.026417 2300\n",
      "0.026417 2350\n",
      "0.026417 2400\n",
      "0.026417 2450\n",
      "0.026417 2500\n",
      "0.026417 2550\n",
      "0.026417 2600\n",
      "0.026417 2650\n",
      "0.026417 2700\n",
      "0.026417 2750\n",
      "0.026417 2800\n",
      "0.026417 2850\n",
      "0.026417 2900\n",
      "0.026417 2950\n",
      "0.026417 3000\n",
      "0.026417 3050\n",
      "0.026417 3100\n",
      "0.026417 3150\n",
      "0.026417 3200\n",
      "0.026417 3250\n",
      "0.026417 3300\n",
      "0.026417 3350\n",
      "0.026417 3400\n",
      "0.026417 3450\n",
      "0.026417 3500\n",
      "0.026417 3550\n",
      "0.026417 3600\n",
      "0.026417 3650\n",
      "0.026417 3700\n",
      "0.026417 3750\n",
      "0.026417 3800\n",
      "0.026417 3850\n",
      "0.026417 3900\n",
      "0.026417 3950\n",
      "0.026417 4000\n",
      "0.026417 4050\n",
      "0.026417 4100\n",
      "0.026417 4150\n",
      "0.026417 4200\n",
      "0.026417 4250\n",
      "0.026417 4300\n",
      "0.026417 4350\n",
      "0.026417 4400\n",
      "0.026417 4450\n",
      "0.026417 4500\n",
      "0.026417 4550\n",
      "0.026417 4600\n",
      "0.026417 4650\n",
      "0.026417 4700\n",
      "0.026417 4750\n",
      "0.026417 4800\n",
      "0.026417 4850\n",
      "0.026417 4900\n",
      "0.026417 4950\n",
      "0.026417 5000\n",
      "0.026417 5050\n",
      "0.026417 5100\n",
      "0.026417 5150\n",
      "0.026417 5200\n",
      "0.026417 5250\n",
      "0.026417 5300\n",
      "0.026417 5350\n",
      "0.026417 5400\n",
      "0.026417 5450\n",
      "0.026417 5500\n",
      "0.026417 5550\n",
      "0.026417 5600\n",
      "0.026417 5650\n",
      "0.026417 5700\n",
      "0.026417 5750\n",
      "0.026417 5800\n",
      "0.026417 5850\n",
      "0.026417 5900\n",
      "0.026417 5950\n",
      "0.026417 6000\n",
      "0.026417 6050\n",
      "0.026417 6100\n",
      "0.026417 6150\n",
      "0.026417 6200\n",
      "0.026417 6250\n",
      "0.026417 6300\n",
      "0.026417 6350\n",
      "0.026417 6400\n",
      "0.026417 6450\n",
      "0.026417 6500\n",
      "0.026417 6550\n",
      "0.026417 6600\n",
      "0.026417 6650\n",
      "0.026417 6700\n",
      "0.026417 6750\n",
      "0.026417 6800\n",
      "0.026417 6850\n",
      "0.026417 6900\n",
      "0.026417 6950\n",
      "0.026417 7000\n",
      "0.026417 7050\n",
      "0.026417 7100\n",
      "0.026417 7150\n",
      "0.026417 7200\n",
      "0.026417 7250\n",
      "0.026417 7300\n",
      "0.026417 7350\n",
      "0.026417 7400\n",
      "0.026417 7450\n",
      "0.026417 7500\n",
      "0.026417 7550\n",
      "0.026417 7600\n",
      "0.026417 7650\n",
      "0.026417 7700\n",
      "0.026417 7750\n",
      "0.026417 7800\n",
      "0.026417 7850\n",
      "0.026417 7900\n",
      "0.026417 7950\n",
      "0.026417 8000\n",
      "0.026417 8050\n",
      "0.026417 8100\n",
      "0.026417 8150\n",
      "0.026417 8200\n",
      "0.026417 8250\n",
      "0.026417 8300\n",
      "0.026417 8350\n",
      "0.026417 8400\n",
      "0.026417 8450\n",
      "0.026417 8500\n",
      "0.026417 8550\n",
      "0.026417 8600\n",
      "0.026417 8650\n",
      "0.026417 8700\n",
      "0.026417 8750\n",
      "0.026417 8800\n",
      "0.026417 8850\n",
      "0.026417 8900\n",
      "0.026417 8950\n",
      "0.026417 9000\n",
      "0.026417 9050\n",
      "0.026417 9100\n",
      "0.026417 9150\n",
      "0.026417 9200\n",
      "0.026417 9250\n",
      "0.026417 9300\n",
      "0.026417 9350\n",
      "0.026417 9400\n",
      "0.026417 9450\n",
      "0.026417 9500\n",
      "0.026417 9550\n",
      "0.026417 9600\n",
      "0.026417 9650\n",
      "0.026417 9700\n",
      "0.026417 9750\n",
      "0.026417 9800\n",
      "0.026417 9850\n",
      "0.026417 9900\n",
      "0.026417 9950\n"
     ]
    }
   ],
   "source": [
    "max_iter=10000\n",
    "display_step = 50\n",
    "\n",
    "with tf.Session() as sess:\n",
    "    sess.run(tf.global_variables_initializer())\n",
    "    \n",
    "    pre_loss = 10e12\n",
    "    for i in xrange(max_iter):\n",
    "       \n",
    "        loss, _ = sess.run([f_norm, optimize])\n",
    "        if i%display_step==0:\n",
    "            print loss, i\n",
    "    W_out = sess.run(W)\n",
    "    H_out = sess.run(H)\n",
    "    WH_out = sess.run(WH)\n",
    "    "
   ]
  },
  {
   "cell_type": "code",
   "execution_count": 20,
   "metadata": {
    "collapsed": false
   },
   "outputs": [
    {
     "data": {
      "text/html": [
       "<div>\n",
       "<table border=\"1\" class=\"dataframe\">\n",
       "  <thead>\n",
       "    <tr style=\"text-align: right;\">\n",
       "      <th></th>\n",
       "      <th>0</th>\n",
       "      <th>1</th>\n",
       "      <th>2</th>\n",
       "    </tr>\n",
       "  </thead>\n",
       "  <tbody>\n",
       "    <tr>\n",
       "      <th>0</th>\n",
       "      <td>2.998607</td>\n",
       "      <td>3.958827</td>\n",
       "      <td>5.033217</td>\n",
       "    </tr>\n",
       "    <tr>\n",
       "      <th>1</th>\n",
       "      <td>3.997956</td>\n",
       "      <td>3.938484</td>\n",
       "      <td>5.049597</td>\n",
       "    </tr>\n",
       "    <tr>\n",
       "      <th>2</th>\n",
       "      <td>5.001171</td>\n",
       "      <td>3.035299</td>\n",
       "      <td>3.971536</td>\n",
       "    </tr>\n",
       "    <tr>\n",
       "      <th>3</th>\n",
       "      <td>2.003228</td>\n",
       "      <td>3.096283</td>\n",
       "      <td>3.922348</td>\n",
       "    </tr>\n",
       "  </tbody>\n",
       "</table>\n",
       "</div>"
      ],
      "text/plain": [
       "          0         1         2\n",
       "0  2.998607  3.958827  5.033217\n",
       "1  3.997956  3.938484  5.049597\n",
       "2  5.001171  3.035299  3.971536\n",
       "3  2.003228  3.096283  3.922348"
      ]
     },
     "execution_count": 20,
     "metadata": {},
     "output_type": "execute_result"
    }
   ],
   "source": [
    "pd.DataFrame(np.dot(W_out,H_out))"
   ]
  }
 ],
 "metadata": {
  "kernelspec": {
   "display_name": "Python 2",
   "language": "python",
   "name": "python2"
  },
  "language_info": {
   "codemirror_mode": {
    "name": "ipython",
    "version": 2
   },
   "file_extension": ".py",
   "mimetype": "text/x-python",
   "name": "python",
   "nbconvert_exporter": "python",
   "pygments_lexer": "ipython2",
   "version": "2.7.11"
  }
 },
 "nbformat": 4,
 "nbformat_minor": 0
}
